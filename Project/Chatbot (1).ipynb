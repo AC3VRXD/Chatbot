{
  "nbformat": 4,
  "nbformat_minor": 5,
  "metadata": {
    "kernelspec": {
      "display_name": "Python 3 (ipykernel)",
      "language": "python",
      "name": "python3"
    },
    "language_info": {
      "codemirror_mode": {
        "name": "ipython",
        "version": 3
      },
      "file_extension": ".py",
      "mimetype": "text/x-python",
      "name": "python",
      "nbconvert_exporter": "python",
      "pygments_lexer": "ipython3",
      "version": "3.7.11"
    },
    "colab": {
      "name": "Chatbot.ipynb",
      "provenance": [],
      "collapsed_sections": []
    }
  },
  "cells": [
    {
      "cell_type": "code",
      "metadata": {
        "id": "89cc3f9c"
      },
      "source": [
        "import tensorflow as tf\n",
        "import json\n",
        "# import tflearn\n",
        "from tensorflow import keras\n",
        "from tensorflow.keras import layers\n",
        "import nltk\n",
        "import random\n",
        "import numpy as np"
      ],
      "id": "89cc3f9c",
      "execution_count": 1,
      "outputs": []
    },
    {
      "cell_type": "code",
      "metadata": {
        "id": "a79250a5",
        "outputId": "ada39607-7908-4c3c-8746-d39737b3d5aa"
      },
      "source": [
        "print(tf.__version__)"
      ],
      "id": "a79250a5",
      "execution_count": null,
      "outputs": [
        {
          "name": "stdout",
          "output_type": "stream",
          "text": [
            "2.6.0\n"
          ]
        }
      ]
    },
    {
      "cell_type": "code",
      "metadata": {
        "colab": {
          "base_uri": "https://localhost:8080/"
        },
        "id": "561751d0",
        "outputId": "32e3a695-378b-494a-c46f-90fd3fabf15a"
      },
      "source": [
        "nltk.download('punkt')\n",
        "from nltk.stem.lancaster import LancasterStemmer\n",
        "stemmer = LancasterStemmer()"
      ],
      "id": "561751d0",
      "execution_count": 2,
      "outputs": [
        {
          "output_type": "stream",
          "name": "stdout",
          "text": [
            "[nltk_data] Downloading package punkt to /root/nltk_data...\n",
            "[nltk_data]   Unzipping tokenizers/punkt.zip.\n"
          ]
        }
      ]
    },
    {
      "cell_type": "code",
      "metadata": {
        "id": "7e01473b"
      },
      "source": [
        "with open('intents.json') as data:\n",
        "    intents = json.load(data)"
      ],
      "id": "7e01473b",
      "execution_count": null,
      "outputs": []
    },
    {
      "cell_type": "code",
      "metadata": {
        "id": "btwJzW45fTQ0"
      },
      "source": [
        "with open('/content/drive/MyDrive/ChatBot - Vighnesh/intents.json') as data:\n",
        "    intents = json.load(data)"
      ],
      "id": "btwJzW45fTQ0",
      "execution_count": 4,
      "outputs": []
    },
    {
      "cell_type": "code",
      "metadata": {
        "scrolled": true,
        "colab": {
          "base_uri": "https://localhost:8080/"
        },
        "id": "ea8f7468",
        "outputId": "204cd7c8-17ff-4a9e-9a37-c05efea530dd"
      },
      "source": [
        "intents"
      ],
      "id": "ea8f7468",
      "execution_count": 5,
      "outputs": [
        {
          "output_type": "execute_result",
          "data": {
            "text/plain": [
              "{'intents': [{'patterns': ['Hi', 'Hey', \"What's up\", 'Hello'],\n",
              "   'responses': ['Hello', 'Hi', 'Hey'],\n",
              "   'tag': 'greeting'},\n",
              "  {'patterns': ['Bye', 'See you later', 'Goodbye'],\n",
              "   'responses': ['See you later', 'Have a nice day', 'Bye! Come back again'],\n",
              "   'tag': 'goodbye'},\n",
              "  {'patterns': ['Thanks',\n",
              "    'Thank you',\n",
              "    \"That's helpful\",\n",
              "    'Thanks for the help'],\n",
              "   'responses': ['Happy to help!',\n",
              "    'Any time!',\n",
              "    'My pleasure',\n",
              "    \"You're most welcome!\"],\n",
              "   'tag': 'thanks'},\n",
              "  {'patterns': ['Who are you?', 'What are you?', 'Who you are?'],\n",
              "   'responses': [\"I'm Chadbot, here to help\", 'My name is Chadbot'],\n",
              "   'tag': 'about'},\n",
              "  {'patterns': ['what is your name',\n",
              "    'what should I call you',\n",
              "    'whats your name?'],\n",
              "   'responses': ['You can call me Chadbot.', 'My name is Chadbot', 'Chadbot'],\n",
              "   'tag': 'name'},\n",
              "  {'patterns': ['Could you help me?',\n",
              "    'give me a hand please',\n",
              "    'Can you help?',\n",
              "    'What can you do for me?',\n",
              "    'I need a support',\n",
              "    'I need a help',\n",
              "    'support me please'],\n",
              "   'responses': ['Tell me how can assist you',\n",
              "    'Tell me your problem to assist you',\n",
              "    'Yes Sure, How can I support you'],\n",
              "   'tag': 'help'},\n",
              "  {'patterns': ['I am looking for a computer',\n",
              "    'how to select a good computer',\n",
              "    'I want to buy a computer',\n",
              "    'can you recommend a computer for me'],\n",
              "   'responses': ['What is your budget?',\n",
              "    'What specifications are you looking for?',\n",
              "    'Sure!, do you have any manufacturer or model in mind?',\n",
              "    'Are you looking for a laptop or a desktop?'],\n",
              "   'tag': 'computer'},\n",
              "  {'patterns': ['I want to buy a phone',\n",
              "    'I am looking for a good mobile phone',\n",
              "    'Do you have any mobile phones that I can buy?',\n",
              "    \"I'm here to learn about some mobile phones\"],\n",
              "   'responses': ['Do you prefer iOS or Android OS',\n",
              "    'Do you have a fixed budget?',\n",
              "    'Are you thinking of any specific brand?',\n",
              "    'Is the phone for your personal use or professional use?'],\n",
              "   'tag': 'phone'}]}"
            ]
          },
          "metadata": {},
          "execution_count": 5
        }
      ]
    },
    {
      "cell_type": "code",
      "metadata": {
        "id": "b937fbbc"
      },
      "source": [
        "words = []\n",
        "documents = []\n",
        "tags = []\n",
        "ignore = ['?']\n",
        "for intent in intents['intents']:\n",
        "    for pattern in intent['patterns']:\n",
        "        w = nltk.word_tokenize(pattern)\n",
        "        words.extend(w)\n",
        "        documents.append((w, intent['tag']))\n",
        "        if intent['tag'] not in tags:\n",
        "            tags.append(intent['tag'])"
      ],
      "id": "b937fbbc",
      "execution_count": 6,
      "outputs": []
    },
    {
      "cell_type": "code",
      "metadata": {
        "colab": {
          "base_uri": "https://localhost:8080/"
        },
        "id": "347d62de",
        "outputId": "3cb77550-4f57-46e9-a2cb-e8d2f6226fa2"
      },
      "source": [
        "print(documents)"
      ],
      "id": "347d62de",
      "execution_count": 7,
      "outputs": [
        {
          "output_type": "stream",
          "name": "stdout",
          "text": [
            "[(['Hi'], 'greeting'), (['Hey'], 'greeting'), (['What', \"'s\", 'up'], 'greeting'), (['Hello'], 'greeting'), (['Bye'], 'goodbye'), (['See', 'you', 'later'], 'goodbye'), (['Goodbye'], 'goodbye'), (['Thanks'], 'thanks'), (['Thank', 'you'], 'thanks'), (['That', \"'s\", 'helpful'], 'thanks'), (['Thanks', 'for', 'the', 'help'], 'thanks'), (['Who', 'are', 'you', '?'], 'about'), (['What', 'are', 'you', '?'], 'about'), (['Who', 'you', 'are', '?'], 'about'), (['what', 'is', 'your', 'name'], 'name'), (['what', 'should', 'I', 'call', 'you'], 'name'), (['whats', 'your', 'name', '?'], 'name'), (['Could', 'you', 'help', 'me', '?'], 'help'), (['give', 'me', 'a', 'hand', 'please'], 'help'), (['Can', 'you', 'help', '?'], 'help'), (['What', 'can', 'you', 'do', 'for', 'me', '?'], 'help'), (['I', 'need', 'a', 'support'], 'help'), (['I', 'need', 'a', 'help'], 'help'), (['support', 'me', 'please'], 'help'), (['I', 'am', 'looking', 'for', 'a', 'computer'], 'computer'), (['how', 'to', 'select', 'a', 'good', 'computer'], 'computer'), (['I', 'want', 'to', 'buy', 'a', 'computer'], 'computer'), (['can', 'you', 'recommend', 'a', 'computer', 'for', 'me'], 'computer'), (['I', 'want', 'to', 'buy', 'a', 'phone'], 'phone'), (['I', 'am', 'looking', 'for', 'a', 'good', 'mobile', 'phone'], 'phone'), (['Do', 'you', 'have', 'any', 'mobile', 'phones', 'that', 'I', 'can', 'buy', '?'], 'phone'), (['I', \"'m\", 'here', 'to', 'learn', 'about', 'some', 'mobile', 'phones'], 'phone')]\n"
          ]
        }
      ]
    },
    {
      "cell_type": "code",
      "metadata": {
        "colab": {
          "base_uri": "https://localhost:8080/"
        },
        "id": "75035cb9",
        "outputId": "2241a4c0-27f5-46b8-aba8-9e29b496a9fe"
      },
      "source": [
        "words = [stemmer.stem(w.lower()) for w in words if w not in ignore]\n",
        "words = sorted(list(set(words)))\n",
        "\n",
        "tags = sorted(list(set(tags)))\n",
        "\n",
        "print(len(documents), \"documents\")\n",
        "print(len(tags), \"tags\", tags)\n",
        "print(len(words), \"unique words\", words)"
      ],
      "id": "75035cb9",
      "execution_count": 8,
      "outputs": [
        {
          "output_type": "stream",
          "name": "stdout",
          "text": [
            "32 documents\n",
            "8 tags ['about', 'computer', 'goodbye', 'greeting', 'help', 'name', 'phone', 'thanks']\n",
            "53 unique words [\"'m\", \"'s\", 'a', 'about', 'am', 'any', 'ar', 'buy', 'bye', 'cal', 'can', 'comput', 'could', 'do', 'for', 'giv', 'good', 'goodby', 'hand', 'hav', 'hello', 'help', 'her', 'hey', 'hi', 'how', 'i', 'is', 'lat', 'learn', 'look', 'me', 'mobl', 'nam', 'nee', 'phon', 'pleas', 'recommend', 'see', 'select', 'should', 'som', 'support', 'thank', 'that', 'the', 'to', 'up', 'want', 'what', 'who', 'yo', 'you']\n"
          ]
        }
      ]
    },
    {
      "cell_type": "code",
      "metadata": {
        "colab": {
          "base_uri": "https://localhost:8080/"
        },
        "id": "6e72048e",
        "outputId": "23b62c5d-cb09-4487-b0cf-79c907c738ee"
      },
      "source": [
        "training = []\n",
        "output = []\n",
        "output_empty = [0]*len(tags)\n",
        "#print(output_empty)\n",
        "for doc in documents:\n",
        "    bag = []\n",
        "    pattern_words = doc[0]\n",
        "    pattern_words = [stemmer.stem(word.lower()) for word in pattern_words]\n",
        "    for w in words:\n",
        "        bag.append(1) if w in pattern_words else bag.append(0)\n",
        "    \n",
        "    output_row = list(output_empty)\n",
        "    output_row[tags.index(doc[1])] = 1\n",
        "        \n",
        "    training.append([bag, output_row])\n",
        "\n",
        "    \n",
        "random.shuffle(training)\n",
        "training = np.array(training)\n",
        "\n",
        "train_x = list(training[:,0])\n",
        "train_y = list(training[:,1])        "
      ],
      "id": "6e72048e",
      "execution_count": 9,
      "outputs": [
        {
          "output_type": "stream",
          "name": "stderr",
          "text": [
            "/usr/local/lib/python3.7/dist-packages/ipykernel_launcher.py:19: VisibleDeprecationWarning: Creating an ndarray from ragged nested sequences (which is a list-or-tuple of lists-or-tuples-or ndarrays with different lengths or shapes) is deprecated. If you meant to do this, you must specify 'dtype=object' when creating the ndarray\n"
          ]
        }
      ]
    },
    {
      "cell_type": "code",
      "metadata": {
        "colab": {
          "base_uri": "https://localhost:8080/"
        },
        "id": "77c64435",
        "outputId": "aea46b26-e46d-4738-a45d-1848f13bdd16"
      },
      "source": [
        "train_x=np.array(train_x, dtype='float')\n",
        "train_x.shape"
      ],
      "id": "77c64435",
      "execution_count": 10,
      "outputs": [
        {
          "output_type": "execute_result",
          "data": {
            "text/plain": [
              "(32, 53)"
            ]
          },
          "metadata": {},
          "execution_count": 10
        }
      ]
    },
    {
      "cell_type": "code",
      "metadata": {
        "colab": {
          "base_uri": "https://localhost:8080/"
        },
        "id": "c4cfd348",
        "outputId": "b410f83c-f3e5-443a-fad4-d4fc4d08f9a5"
      },
      "source": [
        "train_y=np.array(train_y, dtype='float')\n",
        "train_y.shape"
      ],
      "id": "c4cfd348",
      "execution_count": 11,
      "outputs": [
        {
          "output_type": "execute_result",
          "data": {
            "text/plain": [
              "(32, 8)"
            ]
          },
          "metadata": {},
          "execution_count": 11
        }
      ]
    },
    {
      "cell_type": "code",
      "metadata": {
        "id": "7f9b73e5"
      },
      "source": [
        "model = keras.Sequential([\n",
        "  layers.Dense(128, input_shape=train_x.shape[1:], activation='relu'),\n",
        "  layers.Dropout(0.5),\n",
        "  layers.Dense(64, activation='relu'),\n",
        "  layers.Dropout(0.5),\n",
        "  layers.Dense(len(tags), activation='softmax')                     \n",
        "])"
      ],
      "id": "7f9b73e5",
      "execution_count": 13,
      "outputs": []
    },
    {
      "cell_type": "code",
      "metadata": {
        "id": "8042c11c"
      },
      "source": [
        "model.compile(optimizer = 'adam', loss = 'mae', metrics = ['accuracy'])"
      ],
      "id": "8042c11c",
      "execution_count": 14,
      "outputs": []
    },
    {
      "cell_type": "code",
      "metadata": {
        "colab": {
          "base_uri": "https://localhost:8080/"
        },
        "id": "83d11d1f",
        "outputId": "4d9f7952-c20c-4288-c788-be3ead15cd9d"
      },
      "source": [
        "model.fit(train_x, train_y, batch_size = 4, epochs = 100)"
      ],
      "id": "83d11d1f",
      "execution_count": 15,
      "outputs": [
        {
          "output_type": "stream",
          "name": "stdout",
          "text": [
            "Epoch 1/100\n",
            "8/8 [==============================] - 1s 3ms/step - loss: 0.2186 - accuracy: 0.0312\n",
            "Epoch 2/100\n",
            "8/8 [==============================] - 0s 2ms/step - loss: 0.2187 - accuracy: 0.1250\n",
            "Epoch 3/100\n",
            "8/8 [==============================] - 0s 2ms/step - loss: 0.2191 - accuracy: 0.1250\n",
            "Epoch 4/100\n",
            "8/8 [==============================] - 0s 3ms/step - loss: 0.2133 - accuracy: 0.1875\n",
            "Epoch 5/100\n",
            "8/8 [==============================] - 0s 2ms/step - loss: 0.2150 - accuracy: 0.2188\n",
            "Epoch 6/100\n",
            "8/8 [==============================] - 0s 2ms/step - loss: 0.2105 - accuracy: 0.3438\n",
            "Epoch 7/100\n",
            "8/8 [==============================] - 0s 3ms/step - loss: 0.2063 - accuracy: 0.2812\n",
            "Epoch 8/100\n",
            "8/8 [==============================] - 0s 4ms/step - loss: 0.2093 - accuracy: 0.2500\n",
            "Epoch 9/100\n",
            "8/8 [==============================] - 0s 3ms/step - loss: 0.2045 - accuracy: 0.2812\n",
            "Epoch 10/100\n",
            "8/8 [==============================] - 0s 2ms/step - loss: 0.2009 - accuracy: 0.5000\n",
            "Epoch 11/100\n",
            "8/8 [==============================] - 0s 3ms/step - loss: 0.1979 - accuracy: 0.2812\n",
            "Epoch 12/100\n",
            "8/8 [==============================] - 0s 2ms/step - loss: 0.1961 - accuracy: 0.3750\n",
            "Epoch 13/100\n",
            "8/8 [==============================] - 0s 3ms/step - loss: 0.1902 - accuracy: 0.4688\n",
            "Epoch 14/100\n",
            "8/8 [==============================] - 0s 3ms/step - loss: 0.1879 - accuracy: 0.5000\n",
            "Epoch 15/100\n",
            "8/8 [==============================] - 0s 3ms/step - loss: 0.1754 - accuracy: 0.5938\n",
            "Epoch 16/100\n",
            "8/8 [==============================] - 0s 3ms/step - loss: 0.1791 - accuracy: 0.5312\n",
            "Epoch 17/100\n",
            "8/8 [==============================] - 0s 2ms/step - loss: 0.1644 - accuracy: 0.5625\n",
            "Epoch 18/100\n",
            "8/8 [==============================] - 0s 2ms/step - loss: 0.1603 - accuracy: 0.5938\n",
            "Epoch 19/100\n",
            "8/8 [==============================] - 0s 2ms/step - loss: 0.1529 - accuracy: 0.6562\n",
            "Epoch 20/100\n",
            "8/8 [==============================] - 0s 2ms/step - loss: 0.1508 - accuracy: 0.5312\n",
            "Epoch 21/100\n",
            "8/8 [==============================] - 0s 3ms/step - loss: 0.1484 - accuracy: 0.5625\n",
            "Epoch 22/100\n",
            "8/8 [==============================] - 0s 3ms/step - loss: 0.1303 - accuracy: 0.6562\n",
            "Epoch 23/100\n",
            "8/8 [==============================] - 0s 3ms/step - loss: 0.1334 - accuracy: 0.5312\n",
            "Epoch 24/100\n",
            "8/8 [==============================] - 0s 3ms/step - loss: 0.1276 - accuracy: 0.6562\n",
            "Epoch 25/100\n",
            "8/8 [==============================] - 0s 3ms/step - loss: 0.1091 - accuracy: 0.7188\n",
            "Epoch 26/100\n",
            "8/8 [==============================] - 0s 2ms/step - loss: 0.1176 - accuracy: 0.6875\n",
            "Epoch 27/100\n",
            "8/8 [==============================] - 0s 2ms/step - loss: 0.0995 - accuracy: 0.6562\n",
            "Epoch 28/100\n",
            "8/8 [==============================] - 0s 2ms/step - loss: 0.1044 - accuracy: 0.6875\n",
            "Epoch 29/100\n",
            "8/8 [==============================] - 0s 2ms/step - loss: 0.1124 - accuracy: 0.7188\n",
            "Epoch 30/100\n",
            "8/8 [==============================] - 0s 2ms/step - loss: 0.1053 - accuracy: 0.7188\n",
            "Epoch 31/100\n",
            "8/8 [==============================] - 0s 4ms/step - loss: 0.0921 - accuracy: 0.8438\n",
            "Epoch 32/100\n",
            "8/8 [==============================] - 0s 2ms/step - loss: 0.0863 - accuracy: 0.8125\n",
            "Epoch 33/100\n",
            "8/8 [==============================] - 0s 2ms/step - loss: 0.0953 - accuracy: 0.7812\n",
            "Epoch 34/100\n",
            "8/8 [==============================] - 0s 2ms/step - loss: 0.0863 - accuracy: 0.7812\n",
            "Epoch 35/100\n",
            "8/8 [==============================] - 0s 2ms/step - loss: 0.0715 - accuracy: 0.7500\n",
            "Epoch 36/100\n",
            "8/8 [==============================] - 0s 3ms/step - loss: 0.0802 - accuracy: 0.8438\n",
            "Epoch 37/100\n",
            "8/8 [==============================] - 0s 2ms/step - loss: 0.0861 - accuracy: 0.8125\n",
            "Epoch 38/100\n",
            "8/8 [==============================] - 0s 3ms/step - loss: 0.0714 - accuracy: 0.9062\n",
            "Epoch 39/100\n",
            "8/8 [==============================] - 0s 2ms/step - loss: 0.0753 - accuracy: 0.8125\n",
            "Epoch 40/100\n",
            "8/8 [==============================] - 0s 2ms/step - loss: 0.0646 - accuracy: 0.8438\n",
            "Epoch 41/100\n",
            "8/8 [==============================] - 0s 3ms/step - loss: 0.0604 - accuracy: 0.9062\n",
            "Epoch 42/100\n",
            "8/8 [==============================] - 0s 3ms/step - loss: 0.0439 - accuracy: 0.9375\n",
            "Epoch 43/100\n",
            "8/8 [==============================] - 0s 2ms/step - loss: 0.0682 - accuracy: 0.8750\n",
            "Epoch 44/100\n",
            "8/8 [==============================] - 0s 2ms/step - loss: 0.0568 - accuracy: 0.9062\n",
            "Epoch 45/100\n",
            "8/8 [==============================] - 0s 3ms/step - loss: 0.0404 - accuracy: 0.9688\n",
            "Epoch 46/100\n",
            "8/8 [==============================] - 0s 2ms/step - loss: 0.0465 - accuracy: 0.9688\n",
            "Epoch 47/100\n",
            "8/8 [==============================] - 0s 2ms/step - loss: 0.0451 - accuracy: 0.9688\n",
            "Epoch 48/100\n",
            "8/8 [==============================] - 0s 3ms/step - loss: 0.0436 - accuracy: 0.9375\n",
            "Epoch 49/100\n",
            "8/8 [==============================] - 0s 2ms/step - loss: 0.0305 - accuracy: 0.9688\n",
            "Epoch 50/100\n",
            "8/8 [==============================] - 0s 2ms/step - loss: 0.0417 - accuracy: 0.9375\n",
            "Epoch 51/100\n",
            "8/8 [==============================] - 0s 2ms/step - loss: 0.0482 - accuracy: 0.9062\n",
            "Epoch 52/100\n",
            "8/8 [==============================] - 0s 2ms/step - loss: 0.0331 - accuracy: 0.9688\n",
            "Epoch 53/100\n",
            "8/8 [==============================] - 0s 2ms/step - loss: 0.0420 - accuracy: 0.9062\n",
            "Epoch 54/100\n",
            "8/8 [==============================] - 0s 3ms/step - loss: 0.0201 - accuracy: 1.0000\n",
            "Epoch 55/100\n",
            "8/8 [==============================] - 0s 2ms/step - loss: 0.0252 - accuracy: 1.0000\n",
            "Epoch 56/100\n",
            "8/8 [==============================] - 0s 3ms/step - loss: 0.0411 - accuracy: 0.9062\n",
            "Epoch 57/100\n",
            "8/8 [==============================] - 0s 3ms/step - loss: 0.0282 - accuracy: 1.0000\n",
            "Epoch 58/100\n",
            "8/8 [==============================] - 0s 3ms/step - loss: 0.0167 - accuracy: 0.9688\n",
            "Epoch 59/100\n",
            "8/8 [==============================] - 0s 2ms/step - loss: 0.0286 - accuracy: 1.0000\n",
            "Epoch 60/100\n",
            "8/8 [==============================] - 0s 2ms/step - loss: 0.0180 - accuracy: 1.0000\n",
            "Epoch 61/100\n",
            "8/8 [==============================] - 0s 3ms/step - loss: 0.0232 - accuracy: 0.9375\n",
            "Epoch 62/100\n",
            "8/8 [==============================] - 0s 2ms/step - loss: 0.0240 - accuracy: 0.9688\n",
            "Epoch 63/100\n",
            "8/8 [==============================] - 0s 2ms/step - loss: 0.0253 - accuracy: 0.9688\n",
            "Epoch 64/100\n",
            "8/8 [==============================] - 0s 3ms/step - loss: 0.0166 - accuracy: 1.0000\n",
            "Epoch 65/100\n",
            "8/8 [==============================] - 0s 3ms/step - loss: 0.0188 - accuracy: 0.9688\n",
            "Epoch 66/100\n",
            "8/8 [==============================] - 0s 2ms/step - loss: 0.0142 - accuracy: 1.0000\n",
            "Epoch 67/100\n",
            "8/8 [==============================] - 0s 3ms/step - loss: 0.0093 - accuracy: 1.0000\n",
            "Epoch 68/100\n",
            "8/8 [==============================] - 0s 2ms/step - loss: 0.0265 - accuracy: 1.0000\n",
            "Epoch 69/100\n",
            "8/8 [==============================] - 0s 2ms/step - loss: 0.0226 - accuracy: 1.0000\n",
            "Epoch 70/100\n",
            "8/8 [==============================] - 0s 3ms/step - loss: 0.0090 - accuracy: 1.0000\n",
            "Epoch 71/100\n",
            "8/8 [==============================] - 0s 2ms/step - loss: 0.0231 - accuracy: 1.0000\n",
            "Epoch 72/100\n",
            "8/8 [==============================] - 0s 3ms/step - loss: 0.0132 - accuracy: 1.0000\n",
            "Epoch 73/100\n",
            "8/8 [==============================] - 0s 3ms/step - loss: 0.0227 - accuracy: 0.9375\n",
            "Epoch 74/100\n",
            "8/8 [==============================] - 0s 3ms/step - loss: 0.0175 - accuracy: 1.0000\n",
            "Epoch 75/100\n",
            "8/8 [==============================] - 0s 3ms/step - loss: 0.0196 - accuracy: 0.9375\n",
            "Epoch 76/100\n",
            "8/8 [==============================] - 0s 3ms/step - loss: 0.0089 - accuracy: 1.0000\n",
            "Epoch 77/100\n",
            "8/8 [==============================] - 0s 2ms/step - loss: 0.0193 - accuracy: 0.9688\n",
            "Epoch 78/100\n",
            "8/8 [==============================] - 0s 3ms/step - loss: 0.0166 - accuracy: 1.0000\n",
            "Epoch 79/100\n",
            "8/8 [==============================] - 0s 3ms/step - loss: 0.0106 - accuracy: 1.0000\n",
            "Epoch 80/100\n",
            "8/8 [==============================] - 0s 3ms/step - loss: 0.0160 - accuracy: 1.0000\n",
            "Epoch 81/100\n",
            "8/8 [==============================] - 0s 3ms/step - loss: 0.0272 - accuracy: 0.9688\n",
            "Epoch 82/100\n",
            "8/8 [==============================] - 0s 3ms/step - loss: 0.0092 - accuracy: 1.0000\n",
            "Epoch 83/100\n",
            "8/8 [==============================] - 0s 4ms/step - loss: 0.0066 - accuracy: 1.0000\n",
            "Epoch 84/100\n",
            "8/8 [==============================] - 0s 3ms/step - loss: 0.0055 - accuracy: 1.0000\n",
            "Epoch 85/100\n",
            "8/8 [==============================] - 0s 3ms/step - loss: 0.0166 - accuracy: 0.9375\n",
            "Epoch 86/100\n",
            "8/8 [==============================] - 0s 3ms/step - loss: 0.0120 - accuracy: 1.0000\n",
            "Epoch 87/100\n",
            "8/8 [==============================] - 0s 3ms/step - loss: 0.0100 - accuracy: 1.0000\n",
            "Epoch 88/100\n",
            "8/8 [==============================] - 0s 3ms/step - loss: 0.0030 - accuracy: 1.0000\n",
            "Epoch 89/100\n",
            "8/8 [==============================] - 0s 3ms/step - loss: 0.0123 - accuracy: 0.9688\n",
            "Epoch 90/100\n",
            "8/8 [==============================] - 0s 3ms/step - loss: 0.0113 - accuracy: 0.9688\n",
            "Epoch 91/100\n",
            "8/8 [==============================] - 0s 2ms/step - loss: 0.0079 - accuracy: 1.0000\n",
            "Epoch 92/100\n",
            "8/8 [==============================] - 0s 3ms/step - loss: 0.0136 - accuracy: 1.0000\n",
            "Epoch 93/100\n",
            "8/8 [==============================] - 0s 2ms/step - loss: 0.0051 - accuracy: 1.0000\n",
            "Epoch 94/100\n",
            "8/8 [==============================] - 0s 3ms/step - loss: 0.0066 - accuracy: 1.0000\n",
            "Epoch 95/100\n",
            "8/8 [==============================] - 0s 2ms/step - loss: 0.0036 - accuracy: 1.0000\n",
            "Epoch 96/100\n",
            "8/8 [==============================] - 0s 2ms/step - loss: 0.0161 - accuracy: 0.9375\n",
            "Epoch 97/100\n",
            "8/8 [==============================] - 0s 3ms/step - loss: 0.0094 - accuracy: 0.9688\n",
            "Epoch 98/100\n",
            "8/8 [==============================] - 0s 3ms/step - loss: 0.0041 - accuracy: 1.0000\n",
            "Epoch 99/100\n",
            "8/8 [==============================] - 0s 2ms/step - loss: 0.0081 - accuracy: 1.0000\n",
            "Epoch 100/100\n",
            "8/8 [==============================] - 0s 3ms/step - loss: 0.0050 - accuracy: 1.0000\n"
          ]
        },
        {
          "output_type": "execute_result",
          "data": {
            "text/plain": [
              "<keras.callbacks.History at 0x7fe726ac9f50>"
            ]
          },
          "metadata": {},
          "execution_count": 15
        }
      ]
    },
    {
      "cell_type": "code",
      "metadata": {
        "id": "fce0e881"
      },
      "source": [
        "model.save('model.h5')"
      ],
      "id": "fce0e881",
      "execution_count": null,
      "outputs": []
    },
    {
      "cell_type": "code",
      "metadata": {
        "id": "a0945dd1"
      },
      "source": [
        "import pickle\n",
        "pickle.dump({'words':words, 'tags':tags, 'train_x':train_x, 'train_y':train_y}, open(\"training_data\", \"wb\"))"
      ],
      "id": "a0945dd1",
      "execution_count": null,
      "outputs": []
    },
    {
      "cell_type": "code",
      "metadata": {
        "id": "48a2205b"
      },
      "source": [
        "data = pickle.load(open(\"training_data\", \"rb\"))\n",
        "words = data['words']\n",
        "tags = data['tags']\n",
        "train_x = data['train_x']\n",
        "train_y = data['train_y']"
      ],
      "id": "48a2205b",
      "execution_count": null,
      "outputs": []
    },
    {
      "cell_type": "code",
      "metadata": {
        "id": "2cba7ca2"
      },
      "source": [
        "with open('intents.json') as json_data:\n",
        "    intents = json.load(json_data)"
      ],
      "id": "2cba7ca2",
      "execution_count": null,
      "outputs": []
    },
    {
      "cell_type": "code",
      "metadata": {
        "id": "23827478",
        "outputId": "932439f2-d912-45bb-f42c-6cae4362d23c"
      },
      "source": [
        "from tensorflow.keras.models import load_model\n",
        "loaded_model = load_model('model.h5')"
      ],
      "id": "23827478",
      "execution_count": null,
      "outputs": [
        {
          "name": "stdout",
          "output_type": "stream",
          "text": [
            "WARNING:tensorflow:From C:\\Users\\vighn\\anaconda3\\envs\\TF\\lib\\site-packages\\tensorflow\\python\\ops\\init_ops.py:97: calling GlorotUniform.__init__ (from tensorflow.python.ops.init_ops) with dtype is deprecated and will be removed in a future version.\n",
            "Instructions for updating:\n",
            "Call initializer instance with the dtype argument instead of passing it to the constructor\n",
            "WARNING:tensorflow:From C:\\Users\\vighn\\anaconda3\\envs\\TF\\lib\\site-packages\\tensorflow\\python\\ops\\init_ops.py:97: calling Zeros.__init__ (from tensorflow.python.ops.init_ops) with dtype is deprecated and will be removed in a future version.\n",
            "Instructions for updating:\n",
            "Call initializer instance with the dtype argument instead of passing it to the constructor\n"
          ]
        }
      ]
    },
    {
      "cell_type": "code",
      "metadata": {
        "id": "82370d6a"
      },
      "source": [
        "def sentence_cleanup(sentence):\n",
        "    sentence_words = nltk.word_tokenize(sentence)\n",
        "    sentence_words = [stemmer.stem(word.lower()) for word in sentence_words]\n",
        "    return sentence_words\n",
        "\n",
        "def bag_of_words(sentence, words, show_details=False):\n",
        "    sentence_words = sentence_cleanup(sentence)\n",
        "    bag = [0]*len(words)\n",
        "    for s in sentence_words:\n",
        "        for i, w in enumerate(words):\n",
        "            if w==s:\n",
        "                bag[i]=1\n",
        "                if show_details:\n",
        "                    print('Found in bag: %s' %w)\n",
        "    return (np.array(bag))                "
      ],
      "id": "82370d6a",
      "execution_count": 17,
      "outputs": []
    },
    {
      "cell_type": "code",
      "metadata": {
        "id": "b73d6a72"
      },
      "source": [
        "def classify(sentence):\n",
        "    bag = bag_of_words(sentence, words)\n",
        "    results = model.predict(bag.reshape(-1, len(words)))\n",
        "    return np.argmax(results)\n",
        "\n",
        "def response(sentence, userID='123', show_details=False):\n",
        "    predicted_class=classify(sentence)\n",
        "    predicted_tag = tags[predicted_class]\n",
        "    for i in intents['intents']:\n",
        "      if i['tag']==predicted_tag:\n",
        "        return print(random.choice(i['responses']))"
      ],
      "id": "b73d6a72",
      "execution_count": 29,
      "outputs": []
    },
    {
      "cell_type": "code",
      "metadata": {
        "colab": {
          "base_uri": "https://localhost:8080/"
        },
        "id": "eaaeec1b",
        "outputId": "f977fda1-8962-4ac1-d2e2-67755bfc022a"
      },
      "source": [
        "classify('Who are you?')"
      ],
      "id": "eaaeec1b",
      "execution_count": 30,
      "outputs": [
        {
          "output_type": "execute_result",
          "data": {
            "text/plain": [
              "0"
            ]
          },
          "metadata": {},
          "execution_count": 30
        }
      ]
    },
    {
      "cell_type": "code",
      "metadata": {
        "colab": {
          "base_uri": "https://localhost:8080/"
        },
        "id": "THRFkYyKhyIP",
        "outputId": "eece35cc-5aa4-4c26-fda0-ab536fc1b86b"
      },
      "source": [
        "response('Who are you?')"
      ],
      "id": "THRFkYyKhyIP",
      "execution_count": 28,
      "outputs": [
        {
          "output_type": "stream",
          "name": "stdout",
          "text": [
            "I'm Chadbot, here to help\n"
          ]
        }
      ]
    },
    {
      "cell_type": "code",
      "metadata": {
        "colab": {
          "base_uri": "https://localhost:8080/"
        },
        "id": "cb8ae1cb",
        "outputId": "2013c459-e0d2-4b32-a988-1b97372b5489"
      },
      "source": [
        "bag = bag_of_words(\"Hey there\", words)\n",
        "print(bag.shape)\n",
        "results = model.predict(bag.reshape(-1, 53))\n",
        "print(np.argmax(results))"
      ],
      "id": "cb8ae1cb",
      "execution_count": 23,
      "outputs": [
        {
          "output_type": "stream",
          "name": "stdout",
          "text": [
            "(53,)\n",
            "3\n"
          ]
        }
      ]
    },
    {
      "cell_type": "code",
      "metadata": {
        "colab": {
          "base_uri": "https://localhost:8080/"
        },
        "id": "txoYj1cRgz61",
        "outputId": "00bead77-133d-4617-e816-0b55192c1b28"
      },
      "source": [
        "print(tags)"
      ],
      "id": "txoYj1cRgz61",
      "execution_count": 22,
      "outputs": [
        {
          "output_type": "stream",
          "name": "stdout",
          "text": [
            "['about', 'computer', 'goodbye', 'greeting', 'help', 'name', 'phone', 'thanks']\n"
          ]
        }
      ]
    }
  ]
}