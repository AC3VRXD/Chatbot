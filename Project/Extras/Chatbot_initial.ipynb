{
 "cells": [
  {
   "cell_type": "code",
   "execution_count": 1,
   "id": "89cc3f9c",
   "metadata": {},
   "outputs": [],
   "source": [
    "import tensorflow as tf\n",
    "import json\n",
    "import nltk\n",
    "import random\n",
    "from random import shuffle\n",
    "import numpy as np\n",
    "import pickle\n",
    "from tensorflow.keras.models import Sequential\n",
    "from tensorflow.keras.layers import Dense, Activation, Dropout\n",
    "from tensorflow.keras.callbacks import ModelCheckpoint\n",
    "from tensorflow.keras.optimizers import SGD"
   ]
  },
  {
   "cell_type": "code",
   "execution_count": 2,
   "id": "a79250a5",
   "metadata": {},
   "outputs": [
    {
     "name": "stderr",
     "output_type": "stream",
     "text": [
      "[nltk_data] Downloading package punkt to\n",
      "[nltk_data]     C:\\Users\\vighn\\AppData\\Roaming\\nltk_data...\n",
      "[nltk_data]   Package punkt is already up-to-date!\n",
      "[nltk_data] Downloading package wordnet to\n",
      "[nltk_data]     C:\\Users\\vighn\\AppData\\Roaming\\nltk_data...\n",
      "[nltk_data]   Package wordnet is already up-to-date!\n"
     ]
    },
    {
     "data": {
      "text/plain": [
       "True"
      ]
     },
     "execution_count": 2,
     "metadata": {},
     "output_type": "execute_result"
    }
   ],
   "source": [
    "nltk.download('punkt')\n",
    "nltk.download('wordnet')"
   ]
  },
  {
   "cell_type": "code",
   "execution_count": 3,
   "id": "561751d0",
   "metadata": {},
   "outputs": [],
   "source": [
    "lemmatizer = nltk.wordnet.WordNetLemmatizer()"
   ]
  },
  {
   "cell_type": "code",
   "execution_count": 4,
   "id": "7e01473b",
   "metadata": {},
   "outputs": [],
   "source": [
    "with open('intents.json') as data:\n",
    "    intents = json.load(data)"
   ]
  },
  {
   "cell_type": "code",
   "execution_count": 5,
   "id": "b937fbbc",
   "metadata": {},
   "outputs": [],
   "source": [
    "words = []\n",
    "documents = {}\n",
    "ignore = [\".\", \"?\",\"!\",\",\"]\n",
    "for intent in intents['intents']:\n",
    "    for pattern in intent['patterns']:\n",
    "        tokens = nltk.word_tokenize(pattern)\n",
    "        token_words = [lemmatizer.lemmatize(w.lower()) for w in tokens if w not in ignore]\n",
    "        if (intent['tag'] not in list(documents.keys())):\n",
    "            documents[intent['tag']] = [token_words]\n",
    "        else:\n",
    "            documents[intent['tag']].append(token_words)\n",
    "        words.extend(token_words)\n",
    "tags = list(documents.keys())\n",
    "words = np.sort(np.unique(words))"
   ]
  },
  {
   "cell_type": "code",
   "execution_count": 6,
   "id": "75035cb9",
   "metadata": {},
   "outputs": [
    {
     "name": "stdout",
     "output_type": "stream",
     "text": [
      "Tags: ['greeting', 'goodbye', 'thanks', 'name', 'gaming', 'audio', 'display', 'computer', 'phone'], Length:9\n",
      "-----------------------------------------------------------------------------------------------------------------------------\n",
      "Words: ['a' 'accessory' 'address' 'adios' 'am' 'any' 'are' 'best' 'business'\n",
      " 'buy' 'bye' 'call' 'can' 'computer' 'do' 'earphone' 'for' 'gamer'\n",
      " 'gamers' 'gaming' 'get' 'good' 'goodbye' 'have' 'hd' 'headphone'\n",
      " 'headset' 'hello' 'help' 'hey' 'hi' 'hobby' 'how' 'i' 'is' 'laptop'\n",
      " 'later' 'like' 'looking' 'me' 'mobile' 'mobilephone' 'monitor' 'much'\n",
      " 'my' 'name' 'need' 'party' 'personal' 'phone' 'place' 'product'\n",
      " 'purchase' 'recommendation' 'see' 'select' 'should' 'show' 'smartphone'\n",
      " 'some' 'speaker' 'television' 'tell' 'thank' 'thanks' 'the' 'to' 'tv'\n",
      " 'ultra' 'up' 'very' 'want' 'what' 'where' 'who' 'you' 'your'], Length: 77\n",
      "-----------------------------------------------------------------------------------------------------------------------------\n",
      "greeting: [['hi'], ['hey'], ['what', 'is', 'up'], ['hello']]\n",
      "\n",
      "goodbye: [['bye'], ['see', 'you', 'later'], ['goodbye'], ['bye', 'bye'], ['adios']]\n",
      "\n",
      "thanks: [['thanks'], ['thank', 'you'], ['thank', 'you', 'very', 'much'], ['thanks', 'for', 'the', 'help']]\n",
      "\n",
      "name: [['who', 'are', 'you'], ['what', 'should', 'i', 'call', 'you'], ['what', 'is', 'your', 'name'], ['how', 'can', 'i', 'address', 'you'], ['can', 'you', 'tell', 'me', 'your', 'name']]\n",
      "\n",
      "gaming: [['i', 'want', 'to', 'buy', 'some', 'gaming', 'product'], ['can', 'you', 'show', 'me', 'some', 'gaming', 'product'], ['i', 'want', 'to', 'buy', 'gaming', 'accessory'], ['what', 'do', 'you', 'have', 'for', 'gaming'], ['my', 'hobby', 'is', 'gaming'], ['i', 'like', 'gaming'], ['i', 'am', 'a', 'gamer'], ['any', 'recommendation', 'for', 'gamers']]\n",
      "\n",
      "audio: [['i', 'need', 'to', 'buy', 'a', 'headset'], ['do', 'you', 'have', 'headset'], ['where', 'can', 'i', 'get', 'headphone'], ['i', 'am', 'looking', 'for', 'earphone'], ['where', 'can', 'i', 'buy', 'earphone'], ['can', 'you', 'show', 'me', 'some', 'speaker'], ['i', 'want', 'to', 'buy', 'speaker'], ['i', 'want', 'to', 'purchase', 'headphone'], ['i', 'need', 'speaker', 'for', 'a', 'party']]\n",
      "\n",
      "display: [['ultra', 'hd', 'television'], ['i', 'want', 'to', 'buy', 'a', 'television'], ['i', 'want', 'to', 'buy', 'a', 'tv'], ['where', 'can', 'i', 'buy', 'a', 'tv'], ['i', 'need', 'a', 'monitor'], ['best', 'place', 'to', 'buy', 'a', 'monitor']]\n",
      "\n",
      "computer: [['how', 'to', 'select', 'a', 'good', 'computer'], ['how', 'to', 'select', 'a', 'good', 'laptop'], ['computer'], ['personal', 'computer'], ['laptop'], ['business', 'laptop']]\n",
      "\n",
      "phone: [['phone'], ['mobilephone'], ['mobile'], ['smartphone']]\n",
      "\n"
     ]
    }
   ],
   "source": [
    "print(f\"Tags: {tags}, Length:{len(tags)}\")\n",
    "print(\"-\"*125)\n",
    "print(f\"Words: {words}, Length: {len(words)}\")\n",
    "print(\"-\"*125)\n",
    "for key, value in documents.items():\n",
    "    print(f\"{key}: {value}\\n\")"
   ]
  },
  {
   "cell_type": "code",
   "execution_count": 7,
   "id": "6e72048e",
   "metadata": {},
   "outputs": [],
   "source": [
    "def get_label(category):\n",
    "    label = np.zeros((len(tags),), dtype=int)\n",
    "    for t in tags:\n",
    "        if (t == category):\n",
    "            label[tags.index(category)] = 1\n",
    "            return label\n",
    "        \n",
    "def gen_data(filename = None):\n",
    "    data = []\n",
    "    for tag, patterns in documents.items():\n",
    "        label = get_label(tag)\n",
    "        for pattern in patterns:\n",
    "            bag = []\n",
    "            for w in words:\n",
    "                if w in pattern:\n",
    "                    bag.append(1)\n",
    "                else:\n",
    "                    bag.append(0)\n",
    "        data.append([np.array(bag), label])\n",
    "    shuffle(data)\n",
    "    if filename is not None:\n",
    "        np.save(filename+'.npy', data)\n",
    "    return np.array(data)"
   ]
  },
  {
   "cell_type": "code",
   "execution_count": 8,
   "id": "77c64435",
   "metadata": {},
   "outputs": [
    {
     "name": "stderr",
     "output_type": "stream",
     "text": [
      "C:\\Users\\vighn\\anaconda3\\envs\\TF\\lib\\site-packages\\ipykernel_launcher.py:23: VisibleDeprecationWarning: Creating an ndarray from ragged nested sequences (which is a list-or-tuple of lists-or-tuples-or ndarrays with different lengths or shapes) is deprecated. If you meant to do this, you must specify 'dtype=object' when creating the ndarray\n"
     ]
    }
   ],
   "source": [
    "training_data=gen_data()\n",
    "#training_data.shape"
   ]
  },
  {
   "cell_type": "code",
   "execution_count": 9,
   "id": "c4cfd348",
   "metadata": {},
   "outputs": [],
   "source": [
    "train_x = np.array([i[0] for i in training_data])\n",
    "train_y = np.array([i[1] for i in training_data])"
   ]
  },
  {
   "cell_type": "code",
   "execution_count": 10,
   "id": "0a971bd1",
   "metadata": {},
   "outputs": [
    {
     "data": {
      "text/plain": [
       "(77,)"
      ]
     },
     "execution_count": 10,
     "metadata": {},
     "output_type": "execute_result"
    }
   ],
   "source": [
    "train_x.shape[1:]"
   ]
  },
  {
   "cell_type": "code",
   "execution_count": 11,
   "id": "7f9b73e5",
   "metadata": {},
   "outputs": [],
   "source": [
    "model = Sequential()\n",
    "model.add(Dense(32, input_shape=train_x.shape[1:], activation='relu'))\n",
    "#model.add(Dropout(0.3))\n",
    "model.add(Dense(16, activation='relu'))\n",
    "#model.add(Dense(32, activation='relu'))\n",
    "#model.add(Dropout(0.3))\n",
    "model.add(Dense(len(tags), activation='softmax'))"
   ]
  },
  {
   "cell_type": "code",
   "execution_count": 12,
   "id": "e67a3e52",
   "metadata": {},
   "outputs": [],
   "source": [
    "model = Sequential()\n",
    "model.add(Dense(128, input_shape=train_x.shape[1:], activation='relu'))\n",
    "model.add(Dropout(0.3))\n",
    "model.add(Dense(64, activation='relu'))\n",
    "model.add(Dropout(0.3))\n",
    "model.add(Dense(len(tags), activation='softmax'))"
   ]
  },
  {
   "cell_type": "code",
   "execution_count": 13,
   "id": "8042c11c",
   "metadata": {},
   "outputs": [],
   "source": [
    "sgd = SGD(learning_rate=0.01, decay=1e-6, momentum=0.9, nesterov=True)\n",
    "model.compile(loss='categorical_crossentropy', optimizer=sgd, metrics=['accuracy'])"
   ]
  },
  {
   "cell_type": "code",
   "execution_count": 14,
   "id": "83d11d1f",
   "metadata": {},
   "outputs": [
    {
     "name": "stdout",
     "output_type": "stream",
     "text": [
      "Epoch 1/40\n",
      "1/1 [==============================] - 0s 317ms/step - loss: 2.1881 - accuracy: 0.1111\n",
      "Epoch 2/40\n",
      "1/1 [==============================] - 0s 0s/step - loss: 2.3405 - accuracy: 0.1111\n",
      "Epoch 3/40\n",
      "1/1 [==============================] - 0s 0s/step - loss: 2.3313 - accuracy: 0.2222\n",
      "Epoch 4/40\n",
      "1/1 [==============================] - 0s 0s/step - loss: 2.2652 - accuracy: 0.0000e+00\n",
      "Epoch 5/40\n",
      "1/1 [==============================] - 0s 0s/step - loss: 2.1946 - accuracy: 0.1111\n",
      "Epoch 6/40\n",
      "1/1 [==============================] - 0s 0s/step - loss: 2.1427 - accuracy: 0.2222\n",
      "Epoch 7/40\n",
      "1/1 [==============================] - 0s 0s/step - loss: 2.2421 - accuracy: 0.2222\n",
      "Epoch 8/40\n",
      "1/1 [==============================] - 0s 16ms/step - loss: 2.1653 - accuracy: 0.1111\n",
      "Epoch 9/40\n",
      "1/1 [==============================] - 0s 0s/step - loss: 2.1230 - accuracy: 0.2222\n",
      "Epoch 10/40\n",
      "1/1 [==============================] - 0s 0s/step - loss: 2.1534 - accuracy: 0.3333\n",
      "Epoch 11/40\n",
      "1/1 [==============================] - 0s 0s/step - loss: 2.0909 - accuracy: 0.4444\n",
      "Epoch 12/40\n",
      "1/1 [==============================] - 0s 0s/step - loss: 2.0937 - accuracy: 0.2222\n",
      "Epoch 13/40\n",
      "1/1 [==============================] - 0s 0s/step - loss: 2.1313 - accuracy: 0.1111\n",
      "Epoch 14/40\n",
      "1/1 [==============================] - 0s 0s/step - loss: 2.0658 - accuracy: 0.2222\n",
      "Epoch 15/40\n",
      "1/1 [==============================] - 0s 0s/step - loss: 2.0527 - accuracy: 0.1111\n",
      "Epoch 16/40\n",
      "1/1 [==============================] - 0s 0s/step - loss: 1.9469 - accuracy: 0.3333\n",
      "Epoch 17/40\n",
      "1/1 [==============================] - 0s 0s/step - loss: 1.9331 - accuracy: 0.6667\n",
      "Epoch 18/40\n",
      "1/1 [==============================] - 0s 0s/step - loss: 1.9080 - accuracy: 0.5556\n",
      "Epoch 19/40\n",
      "1/1 [==============================] - 0s 15ms/step - loss: 1.9047 - accuracy: 0.5556\n",
      "Epoch 20/40\n",
      "1/1 [==============================] - 0s 1ms/step - loss: 1.9665 - accuracy: 0.7778\n",
      "Epoch 21/40\n",
      "1/1 [==============================] - 0s 5ms/step - loss: 1.7707 - accuracy: 0.4444\n",
      "Epoch 22/40\n",
      "1/1 [==============================] - 0s 4ms/step - loss: 1.8153 - accuracy: 0.6667\n",
      "Epoch 23/40\n",
      "1/1 [==============================] - 0s 2ms/step - loss: 1.8980 - accuracy: 0.6667\n",
      "Epoch 24/40\n",
      "1/1 [==============================] - 0s 2ms/step - loss: 1.8438 - accuracy: 0.7778\n",
      "Epoch 25/40\n",
      "1/1 [==============================] - 0s 4ms/step - loss: 1.8463 - accuracy: 0.4444\n",
      "Epoch 26/40\n",
      "1/1 [==============================] - 0s 3ms/step - loss: 1.7266 - accuracy: 0.8889\n",
      "Epoch 27/40\n",
      "1/1 [==============================] - 0s 3ms/step - loss: 1.5629 - accuracy: 0.8889\n",
      "Epoch 28/40\n",
      "1/1 [==============================] - 0s 4ms/step - loss: 1.7055 - accuracy: 0.6667\n",
      "Epoch 29/40\n",
      "1/1 [==============================] - 0s 3ms/step - loss: 1.6164 - accuracy: 0.8889\n",
      "Epoch 30/40\n",
      "1/1 [==============================] - 0s 3ms/step - loss: 1.6850 - accuracy: 0.8889\n",
      "Epoch 31/40\n",
      "1/1 [==============================] - 0s 2ms/step - loss: 1.5617 - accuracy: 0.7778\n",
      "Epoch 32/40\n",
      "1/1 [==============================] - 0s 966us/step - loss: 1.5696 - accuracy: 0.8889\n",
      "Epoch 33/40\n",
      "1/1 [==============================] - 0s 6ms/step - loss: 1.4711 - accuracy: 0.8889\n",
      "Epoch 34/40\n",
      "1/1 [==============================] - 0s 2ms/step - loss: 1.5619 - accuracy: 0.7778\n",
      "Epoch 35/40\n",
      "1/1 [==============================] - 0s 3ms/step - loss: 1.4787 - accuracy: 1.0000\n",
      "Epoch 36/40\n",
      "1/1 [==============================] - 0s 5ms/step - loss: 1.4924 - accuracy: 0.8889\n",
      "Epoch 37/40\n",
      "1/1 [==============================] - 0s 3ms/step - loss: 1.4850 - accuracy: 0.6667\n",
      "Epoch 38/40\n",
      "1/1 [==============================] - 0s 3ms/step - loss: 1.4582 - accuracy: 0.7778\n",
      "Epoch 39/40\n",
      "1/1 [==============================] - 0s 3ms/step - loss: 1.3627 - accuracy: 0.8889\n",
      "Epoch 40/40\n",
      "1/1 [==============================] - 0s 3ms/step - loss: 1.3100 - accuracy: 0.8889\n"
     ]
    }
   ],
   "source": [
    "#checkpoint = ModelCheckpoint('./models/model-{epoch:03d}.model', monitor='loss', verbose=0, save_best_only = True,\n",
    "                             #mode = 'auto')\n",
    "history = model.fit(train_x, train_y, epochs = 40, batch_size=10, verbose=1)"
   ]
  },
  {
   "cell_type": "code",
   "execution_count": 15,
   "id": "9c4ab6d5",
   "metadata": {},
   "outputs": [
    {
     "data": {
      "image/png": "[encoded data removed]",
      "text/plain": [
       "<Figure size 432x288 with 1 Axes>"
      ]
     },
     "metadata": {
      "needs_background": "light"
     },
     "output_type": "display_data"
    },
    {
     "data": {
      "image/png": "[encoded data removed]",
      "text/plain": [
       "<Figure size 432x288 with 1 Axes>"
      ]
     },
     "metadata": {
      "needs_background": "light"
     },
     "output_type": "display_data"
    }
   ],
   "source": [
    "import matplotlib.pyplot as plt\n",
    "def plot_learningCurve(history, epoch):\n",
    "  # Plot training & validation accuracy values\n",
    "  epoch_range = range(1, epoch+1)\n",
    "  plt.plot(epoch_range, history.history['accuracy'])\n",
    "  plt.title('Model accuracy')\n",
    "  plt.ylabel('Accuracy')\n",
    "  plt.xlabel('Epoch')\n",
    "  plt.show()\n",
    "\n",
    "  # Plot training & validation loss values\n",
    "  plt.plot(epoch_range, history.history['loss'])\n",
    "  plt.title('Model loss')\n",
    "  plt.ylabel('Loss')\n",
    "  plt.xlabel('Epoch')\n",
    "  plt.show()\n",
    "plot_learningCurve(history, 40)"
   ]
  },
  {
   "cell_type": "code",
   "execution_count": 16,
   "id": "fce0e881",
   "metadata": {},
   "outputs": [],
   "source": [
    "model.save('model.h5')"
   ]
  },
  {
   "cell_type": "code",
   "execution_count": 17,
   "id": "a0945dd1",
   "metadata": {},
   "outputs": [],
   "source": [
    "pickle.dump({'words':words, 'tags':tags, 'train_x':train_x, 'train_y':train_y}, open(\"training_data\", \"wb\"))"
   ]
  },
  {
   "cell_type": "code",
   "execution_count": 18,
   "id": "48a2205b",
   "metadata": {},
   "outputs": [],
   "source": [
    "data = pickle.load(open(\"training_data\", \"rb\"))\n",
    "words = data['words']\n",
    "tags = data['tags']\n",
    "train_x = data['train_x']\n",
    "train_y = data['train_y']"
   ]
  },
  {
   "cell_type": "code",
   "execution_count": 19,
   "id": "2cba7ca2",
   "metadata": {},
   "outputs": [],
   "source": [
    "with open('intents.json') as json_data:\n",
    "    intents = json.load(json_data)"
   ]
  },
  {
   "cell_type": "code",
   "execution_count": 20,
   "id": "23827478",
   "metadata": {},
   "outputs": [],
   "source": [
    "from tensorflow.keras.models import load_model\n",
    "loaded_model = load_model('model.h5')"
   ]
  },
  {
   "cell_type": "code",
   "execution_count": 21,
   "id": "82370d6a",
   "metadata": {},
   "outputs": [],
   "source": [
    "def sentence_cleanup(sentence):\n",
    "    sentence_words = nltk.word_tokenize(sentence)\n",
    "    sentence_words = [lemmatizer.lemmatize(word.lower()) for word in sentence_words]\n",
    "    return sentence_words\n",
    "\n",
    "def bag_of_words(sentence, words, show_details=False):\n",
    "    sentence_words = sentence_cleanup(sentence)\n",
    "    bag = [0]*len(words)\n",
    "    for s in sentence_words:\n",
    "        for i, w in enumerate(words):\n",
    "            if w==s:\n",
    "                bag[i]=1\n",
    "                if show_details:\n",
    "                    print('Found in bag: %s' %w)\n",
    "    return (np.array(bag))                "
   ]
  },
  {
   "cell_type": "code",
   "execution_count": 22,
   "id": "b73d6a72",
   "metadata": {},
   "outputs": [],
   "source": [
    "def classify(sentence):\n",
    "    bag = bag_of_words(sentence, words)\n",
    "    results = model.predict(bag.reshape(-1, len(words)))\n",
    "    return np.argmax(results)\n",
    "\n",
    "def response(sentence, userID='123', show_details=False):\n",
    "    predicted_class=classify(sentence)\n",
    "    predicted_tag = tags[predicted_class]\n",
    "    for i in intents['intents']:\n",
    "      if i['tag']==predicted_tag:\n",
    "        return print(random.choice(i['responses']))"
   ]
  },
  {
   "cell_type": "code",
   "execution_count": 23,
   "id": "c0b52035",
   "metadata": {},
   "outputs": [
    {
     "name": "stdout",
     "output_type": "stream",
     "text": [
      "[0 0 0 0 0 0 0 0 0 0 0 0 0 0 0 0 0 0 0 0 0 0 0 0 0 0 0 0 0 1 0 0 0 0 0 0 0\n",
      " 0 0 0 0 0 0 0 0 0 0 0 0 0 0 0 0 0 0 0 0 0 0 0 0 0 0 0 0 0 0 0 0 0 0 0 0 0\n",
      " 0 0 0] [0 0 0 0 0 0 0 0 0 0 0 0 0 0 0 0 0 0 0 0 0 0 0 0 0 0 0 0 0 0 0 0 0 0 0 0 0\n",
      " 0 0 0 0 0 0 0 0 0 0 0 0 0 0 0 0 0 0 0 0 0 0 0 0 0 0 0 0 0 0 0 0 0 0 0 0 0\n",
      " 0 0 0]\n",
      "[[0.09872789 0.11569285 0.10662109 0.11287647 0.10490734 0.11698554\n",
      "  0.0939532  0.12462038 0.12561518]] [[0.11552922 0.11237324 0.10164158 0.11712311 0.10887147 0.10543771\n",
      "  0.10368533 0.11190481 0.12343346]]\n",
      "['greeting', 'goodbye', 'thanks', 'name', 'gaming', 'audio', 'display', 'computer', 'phone']\n"
     ]
    }
   ],
   "source": [
    "# Delete this\n",
    "bag1 = bag_of_words(\"Hey\", words)\n",
    "bag2 = bag_of_words(\"earpods\", words)\n",
    "results1 = model.predict(bag1.reshape(-1, len(words)))\n",
    "results2 = model.predict(bag2.reshape(-1, len(words)))\n",
    "print(bag1, bag2)\n",
    "print(results1, results2)\n",
    "print(tags)"
   ]
  },
  {
   "cell_type": "code",
   "execution_count": 24,
   "id": "eaaeec1b",
   "metadata": {},
   "outputs": [
    {
     "data": {
      "text/plain": [
       "'display'"
      ]
     },
     "execution_count": 24,
     "metadata": {},
     "output_type": "execute_result"
    }
   ],
   "source": [
    "tags[classify('I want to buy earphones')]"
   ]
  },
  {
   "cell_type": "code",
   "execution_count": 25,
   "id": "cb8ae1cb",
   "metadata": {},
   "outputs": [
    {
     "name": "stdout",
     "output_type": "stream",
     "text": [
      "https://www.sony.com/en-ae/electronics/headphones/t/headband-headphones\n"
     ]
    }
   ],
   "source": [
    "response('I like gaming')"
   ]
  },
  {
   "cell_type": "code",
   "execution_count": 26,
   "id": "b2c5c993",
   "metadata": {},
   "outputs": [
    {
     "name": "stdout",
     "output_type": "stream",
     "text": [
      "https://uae.sharafdg.com/?q=monitors&post_type=product\n"
     ]
    }
   ],
   "source": [
    "response('I want to buy a hd television')"
   ]
  },
  {
   "cell_type": "code",
   "execution_count": 27,
   "id": "fc56ee27",
   "metadata": {},
   "outputs": [
    {
     "name": "stdout",
     "output_type": "stream",
     "text": [
      "4K television is good for a family setting\n"
     ]
    }
   ],
   "source": [
    "response('I want to buy speakers')"
   ]
  },
  {
   "cell_type": "code",
   "execution_count": 28,
   "id": "0ebc0655",
   "metadata": {},
   "outputs": [
    {
     "name": "stdout",
     "output_type": "stream",
     "text": [
      "My name is Chadbot\n"
     ]
    }
   ],
   "source": [
    "response('bye')"
   ]
  },
  {
   "cell_type": "code",
   "execution_count": 29,
   "id": "8f52f7ea",
   "metadata": {},
   "outputs": [
    {
     "name": "stdout",
     "output_type": "stream",
     "text": [
      "https://www.jumbo.ae/computers/laptops\n"
     ]
    }
   ],
   "source": [
    "response('who are you')"
   ]
  },
  {
   "cell_type": "code",
   "execution_count": null,
   "id": "792a005c",
   "metadata": {},
   "outputs": [],
   "source": []
  }
 ],
 "metadata": {
  "kernelspec": {
   "display_name": "Python 3 (ipykernel)",
   "language": "python",
   "name": "python3"
  },
  "language_info": {
   "codemirror_mode": {
    "name": "ipython",
    "version": 3
   },
   "file_extension": ".py",
   "mimetype": "text/x-python",
   "name": "python",
   "nbconvert_exporter": "python",
   "pygments_lexer": "ipython3",
   "version": "3.7.11"
  }
 },
 "nbformat": 4,
 "nbformat_minor": 5
}
