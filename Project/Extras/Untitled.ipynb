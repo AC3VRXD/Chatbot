{
 "cells": [
  {
   "cell_type": "code",
   "execution_count": 6,
   "id": "4eb43dea",
   "metadata": {},
   "outputs": [],
   "source": [
    "import tensorflow as tf\n",
    "import json\n",
    "from tensorflow.keras.models import load_model\n",
    "import numpy as np\n",
    "import nltk\n",
    "import random\n",
    "import pickle"
   ]
  },
  {
   "cell_type": "code",
   "execution_count": 7,
   "id": "92fd1169",
   "metadata": {},
   "outputs": [],
   "source": [
    "data = pickle.load(open(\"training_data\", \"rb\"))\n",
    "words = data['words']\n",
    "tags = data['tags']\n",
    "train_x = data['train_x']\n",
    "train_y = data['train_y']"
   ]
  },
  {
   "cell_type": "code",
   "execution_count": 8,
   "id": "023edba3",
   "metadata": {},
   "outputs": [],
   "source": [
    "with open('intents.json') as data:\n",
    "    intents = json.load(data)\n",
    "    \n",
    "stemmer = nltk.wordnet.WordNetLemmatizer()\n",
    "\n",
    "model = load_model('model.h5')"
   ]
  },
  {
   "cell_type": "code",
   "execution_count": 9,
   "id": "6e9a213e",
   "metadata": {},
   "outputs": [],
   "source": [
    "def sentence_cleanup(sentence):\n",
    "    sentence_words = nltk.word_tokenize(sentence)\n",
    "    sentence_words = [stemmer.lemmatize(word.lower()) for word in sentence_words]\n",
    "    return sentence_words\n",
    "\n",
    "def bag_of_words(sentence, words, show_details=False):\n",
    "    sentence_words = sentence_cleanup(sentence)\n",
    "    bag = [0]*len(words)\n",
    "    for s in sentence_words:\n",
    "        for i, w in enumerate(words):\n",
    "            if w==s:\n",
    "                bag[i]=1\n",
    "                if show_details:\n",
    "                    print('Found in bag: %s' %w)\n",
    "    return (np.array(bag))\n",
    "\n",
    "def classify(sentence):\n",
    "    bag = bag_of_words(sentence, words)\n",
    "    results = model.predict(bag.reshape(-1, len(words)))\n",
    "    return np.argmax(results)\n",
    "\n",
    "def response(sentence, userID='123', show_details=False):\n",
    "    predicted_class=classify(sentence)\n",
    "    predicted_tag = tags[predicted_class]\n",
    "    for i in intents['intents']:\n",
    "      if i['tag']==predicted_tag:\n",
    "        return print(random.choice(i['responses']))"
   ]
  },
  {
   "cell_type": "code",
   "execution_count": 11,
   "id": "6e77c60d",
   "metadata": {},
   "outputs": [
    {
     "name": "stdout",
     "output_type": "stream",
     "text": [
      " * Serving Flask app '__main__' (lazy loading)\n",
      " * Environment: production\n",
      "\u001b[31m   WARNING: This is a development server. Do not use it in a production deployment.\u001b[0m\n",
      "\u001b[2m   Use a production WSGI server instead.\u001b[0m\n",
      " * Debug mode: on\n"
     ]
    },
    {
     "name": "stderr",
     "output_type": "stream",
     "text": [
      " * Restarting with stat\n"
     ]
    },
    {
     "ename": "SystemExit",
     "evalue": "1",
     "output_type": "error",
     "traceback": [
      "An exception has occurred, use %tb to see the full traceback.\n",
      "\u001b[1;31mSystemExit\u001b[0m\u001b[1;31m:\u001b[0m 1\n"
     ]
    }
   ],
   "source": [
    "from flask import Flask, render_template, request\n",
    "\n",
    "app = Flask(__name__)\n",
    "\n",
    "@app.route('/')\n",
    "def index():\n",
    "    return render_template(\"index.html\")\n",
    "\n",
    "# if __name__ == '__main__':\n",
    "app.run(debug=True)\n"
   ]
  },
  {
   "cell_type": "code",
   "execution_count": null,
   "id": "2d56bb11",
   "metadata": {},
   "outputs": [],
   "source": []
  },
  {
   "cell_type": "code",
   "execution_count": null,
   "id": "3ccc7361",
   "metadata": {},
   "outputs": [],
   "source": []
  }
 ],
 "metadata": {
  "kernelspec": {
   "display_name": "Python 3 (ipykernel)",
   "language": "python",
   "name": "python3"
  },
  "language_info": {
   "codemirror_mode": {
    "name": "ipython",
    "version": 3
   },
   "file_extension": ".py",
   "mimetype": "text/x-python",
   "name": "python",
   "nbconvert_exporter": "python",
   "pygments_lexer": "ipython3",
   "version": "3.7.11"
  }
 },
 "nbformat": 4,
 "nbformat_minor": 5
}
