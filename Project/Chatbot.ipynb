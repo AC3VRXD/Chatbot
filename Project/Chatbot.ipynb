{
 "cells": [
  {
   "cell_type": "code",
   "execution_count": 1,
   "id": "89cc3f9c",
   "metadata": {},
   "outputs": [],
   "source": [
    "import tensorflow as tf\n",
    "import json\n",
    "import nltk\n",
    "import random\n",
    "from random import shuffle\n",
    "import numpy as np\n",
    "import pickle\n",
    "from tensorflow.keras.models import Sequential\n",
    "from tensorflow.keras.layers import Dense, Activation, Dropout\n",
    "from tensorflow.keras.callbacks import ModelCheckpoint\n",
    "from tensorflow.keras.optimizers import SGD"
   ]
  },
  {
   "cell_type": "code",
   "execution_count": 2,
   "id": "a79250a5",
   "metadata": {},
   "outputs": [
    {
     "name": "stderr",
     "output_type": "stream",
     "text": [
      "[nltk_data] Downloading package punkt to\n",
      "[nltk_data]     C:\\Users\\vighn\\AppData\\Roaming\\nltk_data...\n",
      "[nltk_data]   Package punkt is already up-to-date!\n",
      "[nltk_data] Downloading package wordnet to\n",
      "[nltk_data]     C:\\Users\\vighn\\AppData\\Roaming\\nltk_data...\n",
      "[nltk_data]   Package wordnet is already up-to-date!\n"
     ]
    },
    {
     "data": {
      "text/plain": [
       "True"
      ]
     },
     "execution_count": 2,
     "metadata": {},
     "output_type": "execute_result"
    }
   ],
   "source": [
    "nltk.download('punkt')\n",
    "nltk.download('wordnet')"
   ]
  },
  {
   "cell_type": "code",
   "execution_count": 3,
   "id": "561751d0",
   "metadata": {},
   "outputs": [],
   "source": [
    "stemmer = nltk.wordnet.WordNetLemmatizer()"
   ]
  },
  {
   "cell_type": "code",
   "execution_count": 4,
   "id": "7e01473b",
   "metadata": {},
   "outputs": [],
   "source": [
    "with open('intents.json') as data:\n",
    "    intents = json.load(data)"
   ]
  },
  {
   "cell_type": "code",
   "execution_count": 5,
   "id": "b937fbbc",
   "metadata": {},
   "outputs": [],
   "source": [
    "words = []\n",
    "documents = {}\n",
    "ignore = [\".\", \"?\",\"!\",\",\"]\n",
    "for intent in intents['intents']:\n",
    "    for pattern in intent['patterns']:\n",
    "        tokens = nltk.word_tokenize(pattern)\n",
    "        token_words = [stemmer.lemmatize(w.lower()) for w in tokens if w not in ignore]\n",
    "        if (intent['tag'] not in list(documents.keys())):\n",
    "            documents[intent['tag']] = [token_words]\n",
    "        else:\n",
    "            documents[intent['tag']].append(token_words)\n",
    "        words.extend(token_words)\n",
    "tags = list(documents.keys())\n",
    "words = np.sort(np.unique(words))"
   ]
  },
  {
   "cell_type": "code",
   "execution_count": 6,
   "id": "75035cb9",
   "metadata": {},
   "outputs": [
    {
     "name": "stdout",
     "output_type": "stream",
     "text": [
      "Tags: ['greeting', 'goodbye', 'thanks', 'about', 'name', 'gaming', 'audio', 'display', 'computer', 'phone'], Length:10\n",
      "-----------------------------------------------------------------------------------------------------------------------------\n",
      "Words: ['are' 'business' 'bye' 'call' 'computer' 'device' 'display' 'earpods'\n",
      " 'for' 'gaming' 'goodbye' 'hd' 'headset' 'hello' 'help' 'helpful' 'hey'\n",
      " 'hi' 'i' 'is' 'laptop' 'later' 'mobile' 'mobilephone' 'monitor' 'name'\n",
      " 'personal' 'phone' 'product' 'see' 'should' 'smartphone' 'speaker'\n",
      " 'television' 'thank' 'thanks' 'that' 'the' 'ultra' 'up' 'what' 'who'\n",
      " 'you' 'your'], Length: 44\n",
      "-----------------------------------------------------------------------------------------------------------------------------\n",
      "greeting: [['hi'], ['hey'], ['what', 'is', 'up'], ['hello']]\n",
      "\n",
      "goodbye: [['bye'], ['see', 'you', 'later'], ['goodbye']]\n",
      "\n",
      "thanks: [['thanks'], ['thank', 'you'], ['that', 'is', 'helpful'], ['thanks', 'for', 'the', 'help']]\n",
      "\n",
      "about: [['who', 'are', 'you'], ['what', 'are', 'you']]\n",
      "\n",
      "name: [['what', 'is', 'your', 'name'], ['what', 'should', 'i', 'call', 'you'], ['what', 'is', 'your', 'name']]\n",
      "\n",
      "gaming: [['gaming', 'product'], ['gaming', 'laptop']]\n",
      "\n",
      "audio: [['headset'], ['earpods'], ['speaker']]\n",
      "\n",
      "display: [['ultra', 'hd', 'television'], ['display', 'device'], ['monitor']]\n",
      "\n",
      "computer: [['computer'], ['personal', 'computer'], ['laptop'], ['business', 'laptop']]\n",
      "\n",
      "phone: [['phone'], ['mobilephone'], ['mobile'], ['smartphone']]\n",
      "\n"
     ]
    }
   ],
   "source": [
    "print(f\"Tags: {tags}, Length:{len(tags)}\")\n",
    "print(\"-\"*125)\n",
    "print(f\"Words: {words}, Length: {len(words)}\")\n",
    "print(\"-\"*125)\n",
    "for key, value in documents.items():\n",
    "    print(f\"{key}: {value}\\n\")"
   ]
  },
  {
   "cell_type": "code",
   "execution_count": 7,
   "id": "6e72048e",
   "metadata": {},
   "outputs": [],
   "source": [
    "def get_label(category):\n",
    "    label = np.zeros((len(tags),), dtype=int)\n",
    "    for t in tags:\n",
    "        if (t == category):\n",
    "            label[tags.index(category)] = 1\n",
    "            return label\n",
    "        \n",
    "def gen_data(filename = None):\n",
    "    data = []\n",
    "    for tag, patterns in documents.items():\n",
    "        label = get_label(tag)\n",
    "        for pattern in patterns:\n",
    "            bag = []\n",
    "            for w in words:\n",
    "                if w in pattern:\n",
    "                    bag.append(1)\n",
    "                else:\n",
    "                    bag.append(0)\n",
    "        data.append([np.array(bag), label])\n",
    "    shuffle(data)\n",
    "    if filename is not None:\n",
    "        np.save(filename+'.npy', data)\n",
    "    return np.array(data)"
   ]
  },
  {
   "cell_type": "code",
   "execution_count": 8,
   "id": "77c64435",
   "metadata": {},
   "outputs": [
    {
     "name": "stderr",
     "output_type": "stream",
     "text": [
      "C:\\Users\\vighn\\anaconda3\\envs\\TF\\lib\\site-packages\\ipykernel_launcher.py:23: VisibleDeprecationWarning: Creating an ndarray from ragged nested sequences (which is a list-or-tuple of lists-or-tuples-or ndarrays with different lengths or shapes) is deprecated. If you meant to do this, you must specify 'dtype=object' when creating the ndarray\n"
     ]
    }
   ],
   "source": [
    "training_data=gen_data()\n",
    "#training_data.shape"
   ]
  },
  {
   "cell_type": "code",
   "execution_count": 9,
   "id": "c4cfd348",
   "metadata": {},
   "outputs": [],
   "source": [
    "train_x = np.array([i[0] for i in training_data])\n",
    "train_y = np.array([i[1] for i in training_data])"
   ]
  },
  {
   "cell_type": "code",
   "execution_count": 10,
   "id": "0a971bd1",
   "metadata": {},
   "outputs": [
    {
     "data": {
      "text/plain": [
       "(44,)"
      ]
     },
     "execution_count": 10,
     "metadata": {},
     "output_type": "execute_result"
    }
   ],
   "source": [
    "train_x.shape[1:]"
   ]
  },
  {
   "cell_type": "code",
   "execution_count": 11,
   "id": "7f9b73e5",
   "metadata": {},
   "outputs": [],
   "source": [
    "model = Sequential()\n",
    "model.add(Dense(32, input_shape=train_x.shape[1:], activation='relu'))\n",
    "#model.add(Dropout(0.3))\n",
    "model.add(Dense(16, activation='relu'))\n",
    "#model.add(Dense(32, activation='relu'))\n",
    "#model.add(Dropout(0.3))\n",
    "model.add(Dense(len(tags), activation='softmax'))"
   ]
  },
  {
   "cell_type": "code",
   "execution_count": 12,
   "id": "e67a3e52",
   "metadata": {},
   "outputs": [],
   "source": [
    "model = Sequential()\n",
    "model.add(Dense(128, input_shape=train_x.shape[1:], activation='relu'))\n",
    "model.add(Dropout(0.5))\n",
    "model.add(Dense(64, activation='relu'))\n",
    "model.add(Dropout(0.5))\n",
    "model.add(Dense(len(tags), activation='softmax'))"
   ]
  },
  {
   "cell_type": "code",
   "execution_count": 13,
   "id": "8042c11c",
   "metadata": {},
   "outputs": [],
   "source": [
    "sgd = SGD(learning_rate=0.01, decay=1e-6, momentum=0.9, nesterov=True)\n",
    "model.compile(loss='categorical_crossentropy', optimizer=sgd, metrics=['accuracy'])"
   ]
  },
  {
   "cell_type": "code",
   "execution_count": 14,
   "id": "83d11d1f",
   "metadata": {},
   "outputs": [
    {
     "name": "stdout",
     "output_type": "stream",
     "text": [
      "Epoch 1/50\n",
      "3/3 [==============================] - 2s 13ms/step - loss: 2.2819 - accuracy: 0.1000\n",
      "Epoch 2/50\n",
      "3/3 [==============================] - 0s 2ms/step - loss: 2.2859 - accuracy: 0.2000\n",
      "Epoch 3/50\n",
      "3/3 [==============================] - 0s 2ms/step - loss: 2.2735 - accuracy: 0.1000\n",
      "Epoch 4/50\n",
      "3/3 [==============================] - 0s 2ms/step - loss: 2.1104 - accuracy: 0.2000\n",
      "Epoch 5/50\n",
      "3/3 [==============================] - 0s 2ms/step - loss: 2.1528 - accuracy: 0.2000\n",
      "Epoch 6/50\n",
      "3/3 [==============================] - 0s 2ms/step - loss: 2.2314 - accuracy: 0.3000\n",
      "Epoch 7/50\n",
      "3/3 [==============================] - 0s 1ms/step - loss: 2.2027 - accuracy: 0.2000\n",
      "Epoch 8/50\n",
      "3/3 [==============================] - 0s 1ms/step - loss: 2.0640 - accuracy: 0.4000\n",
      "Epoch 9/50\n",
      "3/3 [==============================] - 0s 2ms/step - loss: 2.0903 - accuracy: 0.4000\n",
      "Epoch 10/50\n",
      "3/3 [==============================] - 0s 3ms/step - loss: 2.0254 - accuracy: 0.4000\n",
      "Epoch 11/50\n",
      "3/3 [==============================] - 0s 2ms/step - loss: 1.8842 - accuracy: 0.6000\n",
      "Epoch 12/50\n",
      "3/3 [==============================] - 0s 2ms/step - loss: 2.0220 - accuracy: 0.5000\n",
      "Epoch 13/50\n",
      "3/3 [==============================] - 0s 2ms/step - loss: 1.8621 - accuracy: 0.4000\n",
      "Epoch 14/50\n",
      "3/3 [==============================] - 0s 2ms/step - loss: 1.7872 - accuracy: 0.6000\n",
      "Epoch 15/50\n",
      "3/3 [==============================] - 0s 2ms/step - loss: 1.6124 - accuracy: 0.6000\n",
      "Epoch 16/50\n",
      "3/3 [==============================] - 0s 2ms/step - loss: 1.8450 - accuracy: 0.6000\n",
      "Epoch 17/50\n",
      "3/3 [==============================] - 0s 2ms/step - loss: 1.9199 - accuracy: 0.4000\n",
      "Epoch 18/50\n",
      "3/3 [==============================] - 0s 1ms/step - loss: 1.5670 - accuracy: 0.6000\n",
      "Epoch 19/50\n",
      "3/3 [==============================] - 0s 2ms/step - loss: 1.6105 - accuracy: 0.6000\n",
      "Epoch 20/50\n",
      "3/3 [==============================] - 0s 1ms/step - loss: 1.7952 - accuracy: 0.3000\n",
      "Epoch 21/50\n",
      "3/3 [==============================] - 0s 2ms/step - loss: 1.5169 - accuracy: 0.8000\n",
      "Epoch 22/50\n",
      "3/3 [==============================] - 0s 1ms/step - loss: 1.4244 - accuracy: 0.8000\n",
      "Epoch 23/50\n",
      "3/3 [==============================] - 0s 2ms/step - loss: 1.2608 - accuracy: 0.7000\n",
      "Epoch 24/50\n",
      "3/3 [==============================] - 0s 1ms/step - loss: 1.4965 - accuracy: 0.7000\n",
      "Epoch 25/50\n",
      "3/3 [==============================] - 0s 3ms/step - loss: 1.0958 - accuracy: 0.8000\n",
      "Epoch 26/50\n",
      "3/3 [==============================] - 0s 1ms/step - loss: 1.3968 - accuracy: 0.7000\n",
      "Epoch 27/50\n",
      "3/3 [==============================] - 0s 2ms/step - loss: 1.2923 - accuracy: 0.7000\n",
      "Epoch 28/50\n",
      "3/3 [==============================] - 0s 2ms/step - loss: 1.2301 - accuracy: 0.8000\n",
      "Epoch 29/50\n",
      "3/3 [==============================] - 0s 2ms/step - loss: 1.2108 - accuracy: 0.8000\n",
      "Epoch 30/50\n",
      "3/3 [==============================] - 0s 1ms/step - loss: 0.8561 - accuracy: 0.8000\n",
      "Epoch 31/50\n",
      "3/3 [==============================] - 0s 2ms/step - loss: 1.2318 - accuracy: 0.7000\n",
      "Epoch 32/50\n",
      "3/3 [==============================] - 0s 1ms/step - loss: 1.1664 - accuracy: 0.8000\n",
      "Epoch 33/50\n",
      "3/3 [==============================] - 0s 2ms/step - loss: 1.1708 - accuracy: 0.6000\n",
      "Epoch 34/50\n",
      "3/3 [==============================] - 0s 1ms/step - loss: 1.0567 - accuracy: 0.7000\n",
      "Epoch 35/50\n",
      "3/3 [==============================] - 0s 2ms/step - loss: 0.9799 - accuracy: 0.8000\n",
      "Epoch 36/50\n",
      "3/3 [==============================] - 0s 1ms/step - loss: 1.1288 - accuracy: 0.7000\n",
      "Epoch 37/50\n",
      "3/3 [==============================] - 0s 1ms/step - loss: 0.9573 - accuracy: 0.9000\n",
      "Epoch 38/50\n",
      "3/3 [==============================] - 0s 2ms/step - loss: 0.6439 - accuracy: 0.9000\n",
      "Epoch 39/50\n",
      "3/3 [==============================] - 0s 1ms/step - loss: 0.7244 - accuracy: 0.9000\n",
      "Epoch 40/50\n",
      "3/3 [==============================] - 0s 2ms/step - loss: 0.8844 - accuracy: 0.7000\n",
      "Epoch 41/50\n",
      "3/3 [==============================] - 0s 1ms/step - loss: 0.5156 - accuracy: 0.9000\n",
      "Epoch 42/50\n",
      "3/3 [==============================] - 0s 2ms/step - loss: 0.6184 - accuracy: 0.9000\n",
      "Epoch 43/50\n",
      "3/3 [==============================] - 0s 1ms/step - loss: 0.8415 - accuracy: 0.8000\n",
      "Epoch 44/50\n",
      "3/3 [==============================] - 0s 1ms/step - loss: 0.5816 - accuracy: 1.0000\n",
      "Epoch 45/50\n",
      "3/3 [==============================] - 0s 1ms/step - loss: 0.5054 - accuracy: 0.9000\n",
      "Epoch 46/50\n",
      "3/3 [==============================] - 0s 2ms/step - loss: 0.5174 - accuracy: 0.9000\n",
      "Epoch 47/50\n",
      "3/3 [==============================] - 0s 1ms/step - loss: 0.5215 - accuracy: 0.9000\n",
      "Epoch 48/50\n",
      "3/3 [==============================] - 0s 1ms/step - loss: 0.2673 - accuracy: 1.0000\n",
      "Epoch 49/50\n",
      "3/3 [==============================] - 0s 2ms/step - loss: 0.1690 - accuracy: 1.0000\n",
      "Epoch 50/50\n",
      "3/3 [==============================] - 0s 997us/step - loss: 0.4261 - accuracy: 1.0000\n"
     ]
    }
   ],
   "source": [
    "#checkpoint = ModelCheckpoint('./models/model-{epoch:03d}.model', monitor='loss', verbose=0, save_best_only = True,\n",
    "                             #mode = 'auto')\n",
    "history = model.fit(train_x, train_y, epochs = 50, batch_size=4, verbose=1)"
   ]
  },
  {
   "cell_type": "code",
   "execution_count": 15,
   "id": "9c4ab6d5",
   "metadata": {},
   "outputs": [
    {
     "data": {
      "image/png": "[encoded data removed]",
      "text/plain": [
       "<Figure size 432x288 with 1 Axes>"
      ]
     },
     "metadata": {
      "needs_background": "light"
     },
     "output_type": "display_data"
    },
    {
     "data": {
      "image/png": "[encoded data removed]",
      "text/plain": [
       "<Figure size 432x288 with 1 Axes>"
      ]
     },
     "metadata": {
      "needs_background": "light"
     },
     "output_type": "display_data"
    }
   ],
   "source": [
    "import matplotlib.pyplot as plt\n",
    "def plot_learningCurve(history, epoch):\n",
    "  # Plot training & validation accuracy values\n",
    "  epoch_range = range(1, epoch+1)\n",
    "  plt.plot(epoch_range, history.history['accuracy'])\n",
    "  plt.title('Model accuracy')\n",
    "  plt.ylabel('Accuracy')\n",
    "  plt.xlabel('Epoch')\n",
    "  plt.show()\n",
    "\n",
    "  # Plot training & validation loss values\n",
    "  plt.plot(epoch_range, history.history['loss'])\n",
    "  plt.title('Model loss')\n",
    "  plt.ylabel('Loss')\n",
    "  plt.xlabel('Epoch')\n",
    "  plt.show()\n",
    "plot_learningCurve(history, 50)"
   ]
  },
  {
   "cell_type": "code",
   "execution_count": 16,
   "id": "fce0e881",
   "metadata": {},
   "outputs": [],
   "source": [
    "model.save('model.h5')"
   ]
  },
  {
   "cell_type": "code",
   "execution_count": 17,
   "id": "a0945dd1",
   "metadata": {},
   "outputs": [],
   "source": [
    "pickle.dump({'words':words, 'tags':tags, 'train_x':train_x, 'train_y':train_y}, open(\"training_data\", \"wb\"))"
   ]
  },
  {
   "cell_type": "code",
   "execution_count": 18,
   "id": "48a2205b",
   "metadata": {},
   "outputs": [],
   "source": [
    "data = pickle.load(open(\"training_data\", \"rb\"))\n",
    "words = data['words']\n",
    "tags = data['tags']\n",
    "train_x = data['train_x']\n",
    "train_y = data['train_y']"
   ]
  },
  {
   "cell_type": "code",
   "execution_count": 19,
   "id": "2cba7ca2",
   "metadata": {},
   "outputs": [],
   "source": [
    "with open('intents.json') as json_data:\n",
    "    intents = json.load(json_data)"
   ]
  },
  {
   "cell_type": "code",
   "execution_count": 20,
   "id": "23827478",
   "metadata": {},
   "outputs": [],
   "source": [
    "from tensorflow.keras.models import load_model\n",
    "loaded_model = load_model('model.h5')"
   ]
  },
  {
   "cell_type": "code",
   "execution_count": 21,
   "id": "82370d6a",
   "metadata": {},
   "outputs": [],
   "source": [
    "def sentence_cleanup(sentence):\n",
    "    sentence_words = nltk.word_tokenize(sentence)\n",
    "    sentence_words = [stemmer.lemmatize(word.lower()) for word in sentence_words]\n",
    "    return sentence_words\n",
    "\n",
    "def bag_of_words(sentence, words, show_details=False):\n",
    "    sentence_words = sentence_cleanup(sentence)\n",
    "    bag = [0]*len(words)\n",
    "    for s in sentence_words:\n",
    "        for i, w in enumerate(words):\n",
    "            if w==s:\n",
    "                bag[i]=1\n",
    "                if show_details:\n",
    "                    print('Found in bag: %s' %w)\n",
    "    return (np.array(bag))                "
   ]
  },
  {
   "cell_type": "code",
   "execution_count": 22,
   "id": "b73d6a72",
   "metadata": {},
   "outputs": [],
   "source": [
    "def classify(sentence):\n",
    "    bag = bag_of_words(sentence, words)\n",
    "    results = model.predict(bag.reshape(-1, len(words)))\n",
    "    return np.argmax(results)\n",
    "\n",
    "def response(sentence, userID='123', show_details=False):\n",
    "    predicted_class=classify(sentence)\n",
    "    predicted_tag = tags[predicted_class]\n",
    "    for i in intents['intents']:\n",
    "      if i['tag']==predicted_tag:\n",
    "        return print(random.choice(i['responses']))"
   ]
  },
  {
   "cell_type": "code",
   "execution_count": 23,
   "id": "c0b52035",
   "metadata": {},
   "outputs": [
    {
     "name": "stdout",
     "output_type": "stream",
     "text": [
      "[0 0 0 0 0 0 0 0 0 0 0 0 0 0 0 0 1 0 0 0 0 0 0 0 0 0 0 0 0 0 0 0 0 0 0 0 0\n",
      " 0 0 0 0 0 0 0] [0 0 0 0 0 0 0 1 0 0 0 0 0 0 0 0 0 0 0 0 0 0 0 0 0 0 0 0 0 0 0 0 0 0 0 0 0\n",
      " 0 0 0 0 0 0 0]\n",
      "[[0.17757154 0.16013017 0.0505305  0.05265648 0.0288555  0.03574392\n",
      "  0.21354283 0.12915783 0.04518062 0.10663062]] [[0.1671551  0.18959944 0.04624944 0.03384649 0.03042281 0.03344015\n",
      "  0.17624974 0.17686898 0.05796813 0.08819973]]\n",
      "['greeting', 'goodbye', 'thanks', 'about', 'name', 'gaming', 'audio', 'display', 'computer', 'phone']\n"
     ]
    }
   ],
   "source": [
    "# Delete this\n",
    "bag1 = bag_of_words(\"Hey\", words)\n",
    "bag2 = bag_of_words(\"earpods\", words)\n",
    "results1 = model.predict(bag1.reshape(-1, len(words)))\n",
    "results2 = model.predict(bag2.reshape(-1, len(words)))\n",
    "print(bag1, bag2)\n",
    "print(results1, results2)\n",
    "print(tags)"
   ]
  },
  {
   "cell_type": "code",
   "execution_count": 24,
   "id": "eaaeec1b",
   "metadata": {},
   "outputs": [
    {
     "data": {
      "text/plain": [
       "'goodbye'"
      ]
     },
     "execution_count": 24,
     "metadata": {},
     "output_type": "execute_result"
    }
   ],
   "source": [
    "tags[classify('earpods')]"
   ]
  },
  {
   "cell_type": "code",
   "execution_count": 25,
   "id": "cb8ae1cb",
   "metadata": {},
   "outputs": [
    {
     "name": "stdout",
     "output_type": "stream",
     "text": [
      "https://www.newegg.com/p/pl?d=gaming+laptops\n"
     ]
    }
   ],
   "source": [
    "response('best gaming laptop')"
   ]
  },
  {
   "cell_type": "code",
   "execution_count": 26,
   "id": "b2c5c993",
   "metadata": {},
   "outputs": [
    {
     "name": "stdout",
     "output_type": "stream",
     "text": [
      "https://uae.sharafdg.com/4k-uhd-tvs/\n"
     ]
    }
   ],
   "source": [
    "response('I am looking for a monitor')"
   ]
  },
  {
   "cell_type": "code",
   "execution_count": 27,
   "id": "fc56ee27",
   "metadata": {},
   "outputs": [
    {
     "name": "stdout",
     "output_type": "stream",
     "text": [
      "https://eu.jbl.com/search?q=speakers\n"
     ]
    }
   ],
   "source": [
    "response('I want speakers')"
   ]
  },
  {
   "cell_type": "code",
   "execution_count": 28,
   "id": "0ebc0655",
   "metadata": {},
   "outputs": [
    {
     "name": "stdout",
     "output_type": "stream",
     "text": [
      "My name is Chadbot\n"
     ]
    }
   ],
   "source": [
    "response('see you later')"
   ]
  },
  {
   "cell_type": "code",
   "execution_count": 29,
   "id": "8f52f7ea",
   "metadata": {},
   "outputs": [
    {
     "name": "stdout",
     "output_type": "stream",
     "text": [
      "Have a nice day\n"
     ]
    }
   ],
   "source": [
    "response('bye')"
   ]
  },
  {
   "cell_type": "code",
   "execution_count": null,
   "id": "792a005c",
   "metadata": {},
   "outputs": [],
   "source": []
  }
 ],
 "metadata": {
  "kernelspec": {
   "display_name": "Python 3 (ipykernel)",
   "language": "python",
   "name": "python3"
  },
  "language_info": {
   "codemirror_mode": {
    "name": "ipython",
    "version": 3
   },
   "file_extension": ".py",
   "mimetype": "text/x-python",
   "name": "python",
   "nbconvert_exporter": "python",
   "pygments_lexer": "ipython3",
   "version": "3.7.11"
  }
 },
 "nbformat": 4,
 "nbformat_minor": 5
}
