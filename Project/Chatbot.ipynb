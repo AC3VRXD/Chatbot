{
  "cells": [
    {
      "cell_type": "code",
      "execution_count": 1,
      "metadata": {
        "colab": {
          "base_uri": "https://localhost:8080/"
        },
        "id": "iKglW-K-T3et",
        "outputId": "deb76d9c-bc7e-4bc7-fd19-e96583a4d1e6"
      },
      "outputs": [
        {
          "name": "stderr",
          "output_type": "stream",
          "text": [
            "[nltk_data] Downloading package punkt to\n",
            "[nltk_data]     C:\\Users\\vighn\\AppData\\Roaming\\nltk_data...\n",
            "[nltk_data]   Package punkt is already up-to-date!\n",
            "[nltk_data] Downloading package wordnet to\n",
            "[nltk_data]     C:\\Users\\vighn\\AppData\\Roaming\\nltk_data...\n",
            "[nltk_data]   Package wordnet is already up-to-date!\n"
          ]
        }
      ],
      "source": [
        "import nltk\n",
        "nltk.download('punkt')\n",
        "nltk.download('wordnet')\n",
        "from nltk.stem import WordNetLemmatizer\n",
        "lemmatizer = WordNetLemmatizer()\n",
        "import json\n",
        "import pickle"
      ]
    },
    {
      "cell_type": "code",
      "execution_count": 2,
      "metadata": {
        "id": "VsGILoV8T5Gn"
      },
      "outputs": [],
      "source": [
        "import numpy as np\n",
        "import tensorflow as tf\n",
        "from keras.models import Sequential\n",
        "from keras.layers import Dense, Activation, Dropout\n",
        "from tensorflow.keras.optimizers import SGD\n",
        "from keras.models import load_model\n",
        "import random"
      ]
    },
    {
      "cell_type": "code",
      "execution_count": 3,
      "metadata": {
        "id": "2wD3xKFFT5JO"
      },
      "outputs": [],
      "source": [
        "words=[]\n",
        "classes = []\n",
        "documents = []\n",
        "ignore_words = ['?', '!']\n",
        "data_file = open('intents.json', encoding='utf-8').read()\n",
        "intents = json.loads(data_file)"
      ]
    },
    {
      "cell_type": "code",
      "execution_count": 4,
      "metadata": {
        "id": "ae_Q_-nBT5L-"
      },
      "outputs": [],
      "source": [
        "for intent in intents['intents']:\n",
        "    for pattern in intent['patterns']:\n",
        "\n",
        "        w = nltk.word_tokenize(pattern)\n",
        "        words.extend(w)\n",
        "\n",
        "        documents.append((w, intent['tag']))\n",
        "\n",
        "\n",
        "        if intent['tag'] not in classes:\n",
        "            classes.append(intent['tag'])\n",
        "\n",
        "words = [lemmatizer.lemmatize(w.lower()) for w in words if w not in ignore_words]\n",
        "words = sorted(list(set(words)))\n",
        "classes = sorted(list(set(classes)))"
      ]
    },
    {
      "cell_type": "code",
      "execution_count": 5,
      "metadata": {
        "colab": {
          "base_uri": "https://localhost:8080/"
        },
        "id": "Rt4M2cMeT5Ok",
        "outputId": "ce7d33bb-ab79-4f31-91d1-e9940ad3bd7e"
      },
      "outputs": [
        {
          "name": "stdout",
          "output_type": "stream",
          "text": [
            "51 documents\n",
            "9 classes ['audio', 'computer', 'display', 'gaming', 'goodbye', 'greeting', 'name', 'phone', 'thanks']\n",
            "77 unique lemmatized words ['a', 'accessory', 'address', 'adios', 'am', 'any', 'are', 'best', 'business', 'buy', 'bye', 'call', 'can', 'computer', 'do', 'earphone', 'for', 'gamer', 'gamers', 'gaming', 'get', 'good', 'goodbye', 'have', 'hd', 'headphone', 'headset', 'hello', 'help', 'hey', 'hi', 'hobby', 'how', 'i', 'is', 'laptop', 'later', 'like', 'looking', 'me', 'mobile', 'monitor', 'much', 'my', 'name', 'need', 'party', 'personal', 'phone', 'place', 'product', 'purchase', 'recommendation', 'see', 'select', 'should', 'show', 'smartphone', 'some', 'speaker', 'television', 'tell', 'thank', 'thanks', 'the', 'to', 'tv', 'ultra', 'up', 'very', 'want', 'what', 'where', 'which', 'who', 'you', 'your']\n"
          ]
        }
      ],
      "source": [
        "print (len(documents), \"documents\")\n",
        "print (len(classes), \"classes\", classes)\n",
        "print (len(words), \"unique lemmatized words\", words)"
      ]
    },
    {
      "cell_type": "code",
      "execution_count": 6,
      "metadata": {
        "id": "PtSKM4XRT5RD"
      },
      "outputs": [],
      "source": [
        "pickle.dump(words,open('words.pkl','wb'))\n",
        "pickle.dump(classes,open('classes.pkl','wb'))"
      ]
    },
    {
      "cell_type": "code",
      "execution_count": 7,
      "metadata": {
        "colab": {
          "base_uri": "https://localhost:8080/"
        },
        "id": "laPkWUMrT5Tm",
        "outputId": "de3e1055-b9a7-4441-af3c-e678be5728b6"
      },
      "outputs": [
        {
          "name": "stderr",
          "output_type": "stream",
          "text": [
            "C:\\Users\\vighn\\anaconda3\\envs\\TF\\lib\\site-packages\\ipykernel_launcher.py:18: VisibleDeprecationWarning: Creating an ndarray from ragged nested sequences (which is a list-or-tuple of lists-or-tuples-or ndarrays with different lengths or shapes) is deprecated. If you meant to do this, you must specify 'dtype=object' when creating the ndarray\n"
          ]
        }
      ],
      "source": [
        "# initializing training data\n",
        "training = []\n",
        "output_empty = [0] * len(classes)\n",
        "for doc in documents:\n",
        "    bag = []\n",
        "    pattern_words = doc[0]\n",
        "    pattern_words = [lemmatizer.lemmatize(word.lower()) for word in pattern_words]\n",
        "\n",
        "    for w in words:\n",
        "        bag.append(1) if w in pattern_words else bag.append(0)\n",
        "\n",
        "    output_row = list(output_empty)\n",
        "    output_row[classes.index(doc[1])] = 1\n",
        "\n",
        "    training.append([bag, output_row])\n",
        "\n",
        "random.shuffle(training)\n",
        "training = np.array(training)"
      ]
    },
    {
      "cell_type": "code",
      "execution_count": 8,
      "metadata": {
        "id": "sWI7dnFmT5WP"
      },
      "outputs": [],
      "source": [
        "train_x = list(training[:,0])\n",
        "train_y = list(training[:,1])"
      ]
    },
    {
      "cell_type": "code",
      "execution_count": 9,
      "metadata": {
        "id": "HY3WN4_AT5Yj"
      },
      "outputs": [],
      "source": [
        "model = Sequential()\n",
        "model.add(Dense(128, input_shape=(len(train_x[0]),), activation='relu'))\n",
        "model.add(Dropout(0.5))\n",
        "model.add(Dense(64, activation='relu'))\n",
        "model.add(Dropout(0.5))\n",
        "model.add(Dense(len(train_y[0]), activation='softmax'))"
      ]
    },
    {
      "cell_type": "code",
      "execution_count": 10,
      "metadata": {
        "colab": {
          "base_uri": "https://localhost:8080/"
        },
        "id": "ujGDhhTiT5b1",
        "outputId": "e192e2a1-e027-4951-b7c5-6e66a2fc8bc1"
      },
      "outputs": [
        {
          "name": "stderr",
          "output_type": "stream",
          "text": [
            "C:\\Users\\vighn\\anaconda3\\envs\\TF\\lib\\site-packages\\keras\\optimizer_v2\\optimizer_v2.py:356: UserWarning: The `lr` argument is deprecated, use `learning_rate` instead.\n",
            "  \"The `lr` argument is deprecated, use `learning_rate` instead.\")\n"
          ]
        }
      ],
      "source": [
        "sgd = SGD(lr=0.01, decay=1e-6, momentum=0.9, nesterov=True)\n",
        "model.compile(loss='categorical_crossentropy', optimizer=sgd, metrics=['accuracy'])"
      ]
    },
    {
      "cell_type": "code",
      "execution_count": 11,
      "metadata": {
        "colab": {
          "base_uri": "https://localhost:8080/"
        },
        "id": "Lzp_lYc5T5eN",
        "outputId": "f27a5fca-120a-4856-8cd1-db60b8df5c9d"
      },
      "outputs": [
        {
          "name": "stdout",
          "output_type": "stream",
          "text": [
            "Epoch 1/200\n",
            "11/11 [==============================] - 1s 17ms/step - loss: 2.2199 - accuracy: 0.1569\n",
            "Epoch 2/200\n",
            "11/11 [==============================] - 0s 3ms/step - loss: 2.1498 - accuracy: 0.1569\n",
            "Epoch 3/200\n",
            "11/11 [==============================] - 0s 3ms/step - loss: 2.0909 - accuracy: 0.1765\n",
            "Epoch 4/200\n",
            "11/11 [==============================] - 0s 2ms/step - loss: 2.0069 - accuracy: 0.1765\n",
            "Epoch 5/200\n",
            "11/11 [==============================] - 0s 2ms/step - loss: 1.9074 - accuracy: 0.3922\n",
            "Epoch 6/200\n",
            "11/11 [==============================] - 0s 2ms/step - loss: 1.9020 - accuracy: 0.3137\n",
            "Epoch 7/200\n",
            "11/11 [==============================] - 0s 2ms/step - loss: 1.8392 - accuracy: 0.3529\n",
            "Epoch 8/200\n",
            "11/11 [==============================] - 0s 2ms/step - loss: 1.5841 - accuracy: 0.5294\n",
            "Epoch 9/200\n",
            "11/11 [==============================] - 0s 2ms/step - loss: 1.5918 - accuracy: 0.5098\n",
            "Epoch 10/200\n",
            "11/11 [==============================] - 0s 2ms/step - loss: 1.5688 - accuracy: 0.4902\n",
            "Epoch 11/200\n",
            "11/11 [==============================] - 0s 2ms/step - loss: 1.3822 - accuracy: 0.5490\n",
            "Epoch 12/200\n",
            "11/11 [==============================] - 0s 2ms/step - loss: 1.3653 - accuracy: 0.4706\n",
            "Epoch 13/200\n",
            "11/11 [==============================] - 0s 2ms/step - loss: 1.1990 - accuracy: 0.6078\n",
            "Epoch 14/200\n",
            "11/11 [==============================] - 0s 2ms/step - loss: 1.2730 - accuracy: 0.6078\n",
            "Epoch 15/200\n",
            "11/11 [==============================] - 0s 2ms/step - loss: 1.0948 - accuracy: 0.6667\n",
            "Epoch 16/200\n",
            "11/11 [==============================] - 0s 2ms/step - loss: 1.0043 - accuracy: 0.7059\n",
            "Epoch 17/200\n",
            "11/11 [==============================] - 0s 2ms/step - loss: 0.9559 - accuracy: 0.6667\n",
            "Epoch 18/200\n",
            "11/11 [==============================] - 0s 2ms/step - loss: 1.1624 - accuracy: 0.5882\n",
            "Epoch 19/200\n",
            "11/11 [==============================] - 0s 2ms/step - loss: 0.8414 - accuracy: 0.7451\n",
            "Epoch 20/200\n",
            "11/11 [==============================] - 0s 2ms/step - loss: 0.7710 - accuracy: 0.7451\n",
            "Epoch 21/200\n",
            "11/11 [==============================] - 0s 1ms/step - loss: 0.6669 - accuracy: 0.7647\n",
            "Epoch 22/200\n",
            "11/11 [==============================] - 0s 2ms/step - loss: 0.7434 - accuracy: 0.8039\n",
            "Epoch 23/200\n",
            "11/11 [==============================] - 0s 2ms/step - loss: 0.4743 - accuracy: 0.9020\n",
            "Epoch 24/200\n",
            "11/11 [==============================] - 0s 1ms/step - loss: 0.6598 - accuracy: 0.7647\n",
            "Epoch 25/200\n",
            "11/11 [==============================] - 0s 2ms/step - loss: 0.4927 - accuracy: 0.8431\n",
            "Epoch 26/200\n",
            "11/11 [==============================] - 0s 2ms/step - loss: 0.4428 - accuracy: 0.8824\n",
            "Epoch 27/200\n",
            "11/11 [==============================] - 0s 1ms/step - loss: 0.5135 - accuracy: 0.8627\n",
            "Epoch 28/200\n",
            "11/11 [==============================] - 0s 1ms/step - loss: 0.4716 - accuracy: 0.8627\n",
            "Epoch 29/200\n",
            "11/11 [==============================] - 0s 2ms/step - loss: 0.3543 - accuracy: 0.9020\n",
            "Epoch 30/200\n",
            "11/11 [==============================] - 0s 2ms/step - loss: 0.4530 - accuracy: 0.8235\n",
            "Epoch 31/200\n",
            "11/11 [==============================] - 0s 2ms/step - loss: 0.2515 - accuracy: 0.9216\n",
            "Epoch 32/200\n",
            "11/11 [==============================] - 0s 2ms/step - loss: 0.1929 - accuracy: 0.9216\n",
            "Epoch 33/200\n",
            "11/11 [==============================] - 0s 1ms/step - loss: 0.2540 - accuracy: 0.9608\n",
            "Epoch 34/200\n",
            "11/11 [==============================] - 0s 2ms/step - loss: 0.3396 - accuracy: 0.9216\n",
            "Epoch 35/200\n",
            "11/11 [==============================] - 0s 2ms/step - loss: 0.3831 - accuracy: 0.8627\n",
            "Epoch 36/200\n",
            "11/11 [==============================] - 0s 2ms/step - loss: 0.2147 - accuracy: 0.9608\n",
            "Epoch 37/200\n",
            "11/11 [==============================] - 0s 1ms/step - loss: 0.2428 - accuracy: 0.9608\n",
            "Epoch 38/200\n",
            "11/11 [==============================] - 0s 1ms/step - loss: 0.2039 - accuracy: 1.0000\n",
            "Epoch 39/200\n",
            "11/11 [==============================] - 0s 1ms/step - loss: 0.1517 - accuracy: 0.9804\n",
            "Epoch 40/200\n",
            "11/11 [==============================] - 0s 2ms/step - loss: 0.1574 - accuracy: 0.9804\n",
            "Epoch 41/200\n",
            "11/11 [==============================] - 0s 2ms/step - loss: 0.1683 - accuracy: 0.9608\n",
            "Epoch 42/200\n",
            "11/11 [==============================] - 0s 2ms/step - loss: 0.1645 - accuracy: 1.0000\n",
            "Epoch 43/200\n",
            "11/11 [==============================] - 0s 2ms/step - loss: 0.2918 - accuracy: 0.8824\n",
            "Epoch 44/200\n",
            "11/11 [==============================] - 0s 4ms/step - loss: 0.2763 - accuracy: 0.9216\n",
            "Epoch 45/200\n",
            "11/11 [==============================] - 0s 1ms/step - loss: 0.0993 - accuracy: 0.9804\n",
            "Epoch 46/200\n",
            "11/11 [==============================] - 0s 1ms/step - loss: 0.1861 - accuracy: 0.9608\n",
            "Epoch 47/200\n",
            "11/11 [==============================] - 0s 2ms/step - loss: 0.2063 - accuracy: 0.9412\n",
            "Epoch 48/200\n",
            "11/11 [==============================] - 0s 2ms/step - loss: 0.1908 - accuracy: 0.9020\n",
            "Epoch 49/200\n",
            "11/11 [==============================] - 0s 2ms/step - loss: 0.1842 - accuracy: 0.9216\n",
            "Epoch 50/200\n",
            "11/11 [==============================] - 0s 2ms/step - loss: 0.1943 - accuracy: 0.9608\n",
            "Epoch 51/200\n",
            "11/11 [==============================] - 0s 2ms/step - loss: 0.1431 - accuracy: 0.9804\n",
            "Epoch 52/200\n",
            "11/11 [==============================] - 0s 2ms/step - loss: 0.1745 - accuracy: 0.9608\n",
            "Epoch 53/200\n",
            "11/11 [==============================] - 0s 2ms/step - loss: 0.2158 - accuracy: 0.9412\n",
            "Epoch 54/200\n",
            "11/11 [==============================] - 0s 1ms/step - loss: 0.0837 - accuracy: 0.9804\n",
            "Epoch 55/200\n",
            "11/11 [==============================] - 0s 1ms/step - loss: 0.0798 - accuracy: 1.0000\n",
            "Epoch 56/200\n",
            "11/11 [==============================] - 0s 1ms/step - loss: 0.1692 - accuracy: 0.9412\n",
            "Epoch 57/200\n",
            "11/11 [==============================] - 0s 1ms/step - loss: 0.1336 - accuracy: 0.9608\n",
            "Epoch 58/200\n",
            "11/11 [==============================] - 0s 1ms/step - loss: 0.1446 - accuracy: 0.9412\n",
            "Epoch 59/200\n",
            "11/11 [==============================] - 0s 1ms/step - loss: 0.1468 - accuracy: 0.9216\n",
            "Epoch 60/200\n",
            "11/11 [==============================] - 0s 1ms/step - loss: 0.0763 - accuracy: 1.0000\n",
            "Epoch 61/200\n",
            "11/11 [==============================] - 0s 1ms/step - loss: 0.0438 - accuracy: 1.0000\n",
            "Epoch 62/200\n",
            "11/11 [==============================] - 0s 1ms/step - loss: 0.1796 - accuracy: 0.9020\n",
            "Epoch 63/200\n",
            "11/11 [==============================] - 0s 1ms/step - loss: 0.1492 - accuracy: 0.9804\n",
            "Epoch 64/200\n",
            "11/11 [==============================] - 0s 1ms/step - loss: 0.1373 - accuracy: 0.9608\n",
            "Epoch 65/200\n",
            "11/11 [==============================] - 0s 1ms/step - loss: 0.1168 - accuracy: 0.9804\n",
            "Epoch 66/200\n",
            "11/11 [==============================] - 0s 1ms/step - loss: 0.0966 - accuracy: 0.9804\n",
            "Epoch 67/200\n",
            "11/11 [==============================] - 0s 1ms/step - loss: 0.1287 - accuracy: 0.9608\n",
            "Epoch 68/200\n",
            "11/11 [==============================] - 0s 1ms/step - loss: 0.0862 - accuracy: 0.9804\n",
            "Epoch 69/200\n",
            "11/11 [==============================] - 0s 1ms/step - loss: 0.0695 - accuracy: 0.9804\n",
            "Epoch 70/200\n",
            "11/11 [==============================] - 0s 2ms/step - loss: 0.0861 - accuracy: 1.0000\n",
            "Epoch 71/200\n",
            "11/11 [==============================] - 0s 2ms/step - loss: 0.0842 - accuracy: 0.9608\n",
            "Epoch 72/200\n",
            "11/11 [==============================] - 0s 1ms/step - loss: 0.1362 - accuracy: 0.9608\n",
            "Epoch 73/200\n",
            "11/11 [==============================] - 0s 1ms/step - loss: 0.0700 - accuracy: 0.9804\n",
            "Epoch 74/200\n",
            "11/11 [==============================] - 0s 1ms/step - loss: 0.0715 - accuracy: 1.0000\n",
            "Epoch 75/200\n",
            "11/11 [==============================] - 0s 1ms/step - loss: 0.0541 - accuracy: 0.9804\n",
            "Epoch 76/200\n",
            "11/11 [==============================] - 0s 1ms/step - loss: 0.0634 - accuracy: 0.9804\n",
            "Epoch 77/200\n",
            "11/11 [==============================] - 0s 1ms/step - loss: 0.1446 - accuracy: 0.9412\n",
            "Epoch 78/200\n",
            "11/11 [==============================] - 0s 1ms/step - loss: 0.0471 - accuracy: 1.0000\n",
            "Epoch 79/200\n",
            "11/11 [==============================] - 0s 1ms/step - loss: 0.0648 - accuracy: 1.0000\n",
            "Epoch 80/200\n",
            "11/11 [==============================] - 0s 1ms/step - loss: 0.0771 - accuracy: 0.9804\n",
            "Epoch 81/200\n",
            "11/11 [==============================] - 0s 1ms/step - loss: 0.0518 - accuracy: 1.0000\n",
            "Epoch 82/200\n",
            "11/11 [==============================] - 0s 1ms/step - loss: 0.1002 - accuracy: 0.9608\n",
            "Epoch 83/200\n",
            "11/11 [==============================] - 0s 2ms/step - loss: 0.1501 - accuracy: 0.9608\n",
            "Epoch 84/200\n",
            "11/11 [==============================] - 0s 1ms/step - loss: 0.0632 - accuracy: 0.9804\n",
            "Epoch 85/200\n",
            "11/11 [==============================] - 0s 2ms/step - loss: 0.1078 - accuracy: 0.9608\n",
            "Epoch 86/200\n",
            "11/11 [==============================] - 0s 2ms/step - loss: 0.0881 - accuracy: 0.9608\n",
            "Epoch 87/200\n",
            "11/11 [==============================] - 0s 1ms/step - loss: 0.0382 - accuracy: 1.0000\n",
            "Epoch 88/200\n",
            "11/11 [==============================] - 0s 1ms/step - loss: 0.0790 - accuracy: 0.9804\n",
            "Epoch 89/200\n",
            "11/11 [==============================] - 0s 2ms/step - loss: 0.0414 - accuracy: 1.0000\n",
            "Epoch 90/200\n",
            "11/11 [==============================] - 0s 1ms/step - loss: 0.0280 - accuracy: 1.0000\n",
            "Epoch 91/200\n",
            "11/11 [==============================] - 0s 1ms/step - loss: 0.0496 - accuracy: 0.9804\n",
            "Epoch 92/200\n",
            "11/11 [==============================] - 0s 1ms/step - loss: 0.1070 - accuracy: 0.9608\n",
            "Epoch 93/200\n",
            "11/11 [==============================] - 0s 1ms/step - loss: 0.0471 - accuracy: 1.0000\n",
            "Epoch 94/200\n",
            "11/11 [==============================] - 0s 1ms/step - loss: 0.0716 - accuracy: 0.9804\n",
            "Epoch 95/200\n",
            "11/11 [==============================] - 0s 1ms/step - loss: 0.0237 - accuracy: 1.0000\n",
            "Epoch 96/200\n",
            "11/11 [==============================] - 0s 1ms/step - loss: 0.0455 - accuracy: 0.9804\n",
            "Epoch 97/200\n",
            "11/11 [==============================] - 0s 2ms/step - loss: 0.0258 - accuracy: 1.0000\n",
            "Epoch 98/200\n",
            "11/11 [==============================] - 0s 3ms/step - loss: 0.0353 - accuracy: 1.0000\n",
            "Epoch 99/200\n",
            "11/11 [==============================] - 0s 1ms/step - loss: 0.0484 - accuracy: 1.0000\n",
            "Epoch 100/200\n",
            "11/11 [==============================] - 0s 2ms/step - loss: 0.0675 - accuracy: 1.0000\n",
            "Epoch 101/200\n",
            "11/11 [==============================] - 0s 1ms/step - loss: 0.0624 - accuracy: 0.9608\n",
            "Epoch 102/200\n",
            "11/11 [==============================] - 0s 1ms/step - loss: 0.0328 - accuracy: 1.0000\n",
            "Epoch 103/200\n",
            "11/11 [==============================] - 0s 1ms/step - loss: 0.1144 - accuracy: 0.9412\n",
            "Epoch 104/200\n",
            "11/11 [==============================] - 0s 1ms/step - loss: 0.0950 - accuracy: 0.9804\n",
            "Epoch 105/200\n",
            "11/11 [==============================] - 0s 1ms/step - loss: 0.0595 - accuracy: 0.9804\n",
            "Epoch 106/200\n",
            "11/11 [==============================] - 0s 2ms/step - loss: 0.0617 - accuracy: 0.9804\n",
            "Epoch 107/200\n",
            "11/11 [==============================] - 0s 1ms/step - loss: 0.0495 - accuracy: 0.9804\n",
            "Epoch 108/200\n",
            "11/11 [==============================] - 0s 2ms/step - loss: 0.0201 - accuracy: 1.0000\n",
            "Epoch 109/200\n",
            "11/11 [==============================] - 0s 2ms/step - loss: 0.0793 - accuracy: 0.9804\n",
            "Epoch 110/200\n",
            "11/11 [==============================] - 0s 1ms/step - loss: 0.0524 - accuracy: 1.0000\n",
            "Epoch 111/200\n",
            "11/11 [==============================] - 0s 2ms/step - loss: 0.1018 - accuracy: 0.9608\n",
            "Epoch 112/200\n",
            "11/11 [==============================] - 0s 2ms/step - loss: 0.0260 - accuracy: 1.0000\n",
            "Epoch 113/200\n",
            "11/11 [==============================] - 0s 2ms/step - loss: 0.0495 - accuracy: 1.0000\n",
            "Epoch 114/200\n",
            "11/11 [==============================] - 0s 1ms/step - loss: 0.0153 - accuracy: 1.0000\n",
            "Epoch 115/200\n",
            "11/11 [==============================] - 0s 1ms/step - loss: 0.0382 - accuracy: 0.9804\n",
            "Epoch 116/200\n",
            "11/11 [==============================] - 0s 1ms/step - loss: 0.0703 - accuracy: 0.9804\n",
            "Epoch 117/200\n",
            "11/11 [==============================] - 0s 1ms/step - loss: 0.0151 - accuracy: 1.0000\n",
            "Epoch 118/200\n",
            "11/11 [==============================] - 0s 2ms/step - loss: 0.0790 - accuracy: 0.9804\n",
            "Epoch 119/200\n",
            "11/11 [==============================] - 0s 2ms/step - loss: 0.0647 - accuracy: 0.9804\n",
            "Epoch 120/200\n",
            "11/11 [==============================] - 0s 1ms/step - loss: 0.0410 - accuracy: 1.0000\n",
            "Epoch 121/200\n",
            "11/11 [==============================] - 0s 1ms/step - loss: 0.0931 - accuracy: 0.9608\n",
            "Epoch 122/200\n",
            "11/11 [==============================] - 0s 2ms/step - loss: 0.0381 - accuracy: 1.0000\n",
            "Epoch 123/200\n",
            "11/11 [==============================] - 0s 1ms/step - loss: 0.0392 - accuracy: 1.0000\n",
            "Epoch 124/200\n",
            "11/11 [==============================] - 0s 1ms/step - loss: 0.0388 - accuracy: 1.0000\n",
            "Epoch 125/200\n",
            "11/11 [==============================] - 0s 1ms/step - loss: 0.0109 - accuracy: 1.0000\n",
            "Epoch 126/200\n",
            "11/11 [==============================] - 0s 1ms/step - loss: 0.0134 - accuracy: 1.0000\n",
            "Epoch 127/200\n",
            "11/11 [==============================] - 0s 1ms/step - loss: 0.0331 - accuracy: 0.9804\n",
            "Epoch 128/200\n",
            "11/11 [==============================] - 0s 1ms/step - loss: 0.0406 - accuracy: 1.0000\n",
            "Epoch 129/200\n",
            "11/11 [==============================] - 0s 1ms/step - loss: 0.0394 - accuracy: 1.0000\n",
            "Epoch 130/200\n",
            "11/11 [==============================] - 0s 1ms/step - loss: 0.0167 - accuracy: 1.0000\n",
            "Epoch 131/200\n",
            "11/11 [==============================] - 0s 1ms/step - loss: 0.0488 - accuracy: 0.9804\n",
            "Epoch 132/200\n",
            "11/11 [==============================] - 0s 1ms/step - loss: 0.0208 - accuracy: 1.0000\n",
            "Epoch 133/200\n",
            "11/11 [==============================] - 0s 2ms/step - loss: 0.0220 - accuracy: 1.0000\n",
            "Epoch 134/200\n",
            "11/11 [==============================] - 0s 1ms/step - loss: 0.0298 - accuracy: 1.0000\n",
            "Epoch 135/200\n",
            "11/11 [==============================] - 0s 1ms/step - loss: 0.0533 - accuracy: 0.9804\n",
            "Epoch 136/200\n",
            "11/11 [==============================] - 0s 1ms/step - loss: 0.0264 - accuracy: 1.0000\n",
            "Epoch 137/200\n",
            "11/11 [==============================] - 0s 2ms/step - loss: 0.0338 - accuracy: 0.9804\n",
            "Epoch 138/200\n",
            "11/11 [==============================] - 0s 1ms/step - loss: 0.0178 - accuracy: 1.0000\n",
            "Epoch 139/200\n",
            "11/11 [==============================] - 0s 1ms/step - loss: 0.0667 - accuracy: 0.9804\n",
            "Epoch 140/200\n",
            "11/11 [==============================] - 0s 1ms/step - loss: 0.0104 - accuracy: 1.0000\n",
            "Epoch 141/200\n",
            "11/11 [==============================] - 0s 1ms/step - loss: 0.0427 - accuracy: 0.9804\n",
            "Epoch 142/200\n",
            "11/11 [==============================] - 0s 1ms/step - loss: 0.0277 - accuracy: 1.0000\n",
            "Epoch 143/200\n",
            "11/11 [==============================] - 0s 1ms/step - loss: 0.0233 - accuracy: 1.0000\n",
            "Epoch 144/200\n",
            "11/11 [==============================] - 0s 2ms/step - loss: 0.0337 - accuracy: 1.0000\n",
            "Epoch 145/200\n",
            "11/11 [==============================] - 0s 1ms/step - loss: 0.0429 - accuracy: 0.9804\n",
            "Epoch 146/200\n",
            "11/11 [==============================] - 0s 1ms/step - loss: 0.0248 - accuracy: 1.0000\n",
            "Epoch 147/200\n",
            "11/11 [==============================] - 0s 1ms/step - loss: 0.0334 - accuracy: 1.0000\n",
            "Epoch 148/200\n",
            "11/11 [==============================] - 0s 2ms/step - loss: 0.0146 - accuracy: 1.0000\n",
            "Epoch 149/200\n",
            "11/11 [==============================] - 0s 1ms/step - loss: 0.0323 - accuracy: 1.0000\n",
            "Epoch 150/200\n",
            "11/11 [==============================] - 0s 1ms/step - loss: 0.0454 - accuracy: 1.0000\n",
            "Epoch 151/200\n",
            "11/11 [==============================] - 0s 1ms/step - loss: 0.0244 - accuracy: 1.0000\n",
            "Epoch 152/200\n",
            "11/11 [==============================] - 0s 1ms/step - loss: 0.0167 - accuracy: 1.0000\n",
            "Epoch 153/200\n",
            "11/11 [==============================] - 0s 1ms/step - loss: 0.0245 - accuracy: 1.0000\n",
            "Epoch 154/200\n",
            "11/11 [==============================] - 0s 1ms/step - loss: 0.0413 - accuracy: 0.9804\n",
            "Epoch 155/200\n",
            "11/11 [==============================] - 0s 1ms/step - loss: 0.0127 - accuracy: 1.0000\n",
            "Epoch 156/200\n",
            "11/11 [==============================] - 0s 1ms/step - loss: 0.0289 - accuracy: 1.0000\n",
            "Epoch 157/200\n",
            "11/11 [==============================] - 0s 1ms/step - loss: 0.0152 - accuracy: 1.0000\n",
            "Epoch 158/200\n",
            "11/11 [==============================] - 0s 1ms/step - loss: 0.0243 - accuracy: 1.0000\n",
            "Epoch 159/200\n",
            "11/11 [==============================] - 0s 1ms/step - loss: 0.0499 - accuracy: 0.9804\n",
            "Epoch 160/200\n",
            "11/11 [==============================] - 0s 2ms/step - loss: 0.0193 - accuracy: 1.0000\n",
            "Epoch 161/200\n",
            "11/11 [==============================] - 0s 1ms/step - loss: 0.0148 - accuracy: 1.0000\n",
            "Epoch 162/200\n",
            "11/11 [==============================] - 0s 2ms/step - loss: 0.0514 - accuracy: 0.9608\n",
            "Epoch 163/200\n",
            "11/11 [==============================] - 0s 1ms/step - loss: 0.0133 - accuracy: 1.0000\n",
            "Epoch 164/200\n",
            "11/11 [==============================] - 0s 2ms/step - loss: 0.0167 - accuracy: 1.0000\n",
            "Epoch 165/200\n",
            "11/11 [==============================] - 0s 2ms/step - loss: 0.0509 - accuracy: 0.9804\n",
            "Epoch 166/200\n",
            "11/11 [==============================] - 0s 1ms/step - loss: 0.0235 - accuracy: 0.9804\n",
            "Epoch 167/200\n",
            "11/11 [==============================] - 0s 2ms/step - loss: 0.0394 - accuracy: 0.9804\n",
            "Epoch 168/200\n",
            "11/11 [==============================] - 0s 1ms/step - loss: 0.0522 - accuracy: 0.9804\n",
            "Epoch 169/200\n",
            "11/11 [==============================] - 0s 1ms/step - loss: 0.0794 - accuracy: 0.9804\n",
            "Epoch 170/200\n",
            "11/11 [==============================] - 0s 1ms/step - loss: 0.1034 - accuracy: 0.9412\n",
            "Epoch 171/200\n",
            "11/11 [==============================] - 0s 1ms/step - loss: 0.0512 - accuracy: 0.9804\n",
            "Epoch 172/200\n",
            "11/11 [==============================] - 0s 1ms/step - loss: 0.0810 - accuracy: 0.9804\n",
            "Epoch 173/200\n",
            "11/11 [==============================] - 0s 2ms/step - loss: 0.0122 - accuracy: 1.0000\n",
            "Epoch 174/200\n",
            "11/11 [==============================] - 0s 2ms/step - loss: 0.0401 - accuracy: 0.9804\n",
            "Epoch 175/200\n",
            "11/11 [==============================] - 0s 1ms/step - loss: 0.0395 - accuracy: 0.9804\n",
            "Epoch 176/200\n",
            "11/11 [==============================] - 0s 1ms/step - loss: 0.0414 - accuracy: 1.0000\n",
            "Epoch 177/200\n",
            "11/11 [==============================] - 0s 1ms/step - loss: 0.0203 - accuracy: 0.9804\n",
            "Epoch 178/200\n",
            "11/11 [==============================] - 0s 1ms/step - loss: 0.1203 - accuracy: 0.9608\n",
            "Epoch 179/200\n",
            "11/11 [==============================] - 0s 1ms/step - loss: 0.0375 - accuracy: 0.9804\n",
            "Epoch 180/200\n",
            "11/11 [==============================] - 0s 1ms/step - loss: 0.0244 - accuracy: 1.0000\n",
            "Epoch 181/200\n",
            "11/11 [==============================] - 0s 1ms/step - loss: 0.0242 - accuracy: 1.0000\n",
            "Epoch 182/200\n",
            "11/11 [==============================] - 0s 1ms/step - loss: 0.0354 - accuracy: 1.0000\n",
            "Epoch 183/200\n",
            "11/11 [==============================] - 0s 2ms/step - loss: 0.0277 - accuracy: 1.0000\n",
            "Epoch 184/200\n",
            "11/11 [==============================] - 0s 2ms/step - loss: 0.0756 - accuracy: 0.9608\n",
            "Epoch 185/200\n",
            "11/11 [==============================] - 0s 1ms/step - loss: 0.0143 - accuracy: 1.0000\n",
            "Epoch 186/200\n",
            "11/11 [==============================] - 0s 1ms/step - loss: 0.0886 - accuracy: 0.9608\n",
            "Epoch 187/200\n",
            "11/11 [==============================] - 0s 2ms/step - loss: 0.0106 - accuracy: 1.0000\n",
            "Epoch 188/200\n",
            "11/11 [==============================] - 0s 1ms/step - loss: 0.0113 - accuracy: 1.0000\n",
            "Epoch 189/200\n",
            "11/11 [==============================] - 0s 1ms/step - loss: 0.0064 - accuracy: 1.0000\n",
            "Epoch 190/200\n",
            "11/11 [==============================] - 0s 1ms/step - loss: 0.0123 - accuracy: 1.0000\n",
            "Epoch 191/200\n",
            "11/11 [==============================] - 0s 1ms/step - loss: 0.0093 - accuracy: 1.0000\n",
            "Epoch 192/200\n",
            "11/11 [==============================] - 0s 4ms/step - loss: 0.0067 - accuracy: 1.0000\n",
            "Epoch 193/200\n",
            "11/11 [==============================] - 0s 1ms/step - loss: 0.0032 - accuracy: 1.0000\n",
            "Epoch 194/200\n",
            "11/11 [==============================] - 0s 1ms/step - loss: 0.0117 - accuracy: 1.0000\n",
            "Epoch 195/200\n",
            "11/11 [==============================] - 0s 1ms/step - loss: 0.1119 - accuracy: 0.9412\n",
            "Epoch 196/200\n",
            "11/11 [==============================] - 0s 1ms/step - loss: 0.0472 - accuracy: 1.0000\n",
            "Epoch 197/200\n",
            "11/11 [==============================] - 0s 1ms/step - loss: 0.0211 - accuracy: 1.0000\n",
            "Epoch 198/200\n",
            "11/11 [==============================] - 0s 1ms/step - loss: 0.0893 - accuracy: 0.9804\n",
            "Epoch 199/200\n",
            "11/11 [==============================] - 0s 2ms/step - loss: 0.0315 - accuracy: 1.0000\n",
            "Epoch 200/200\n",
            "11/11 [==============================] - 0s 1ms/step - loss: 0.0224 - accuracy: 1.0000\n"
          ]
        }
      ],
      "source": [
        "history = model.fit(np.array(train_x), np.array(train_y), epochs=200, batch_size=5, verbose=1)\n",
        "model.save('chatbot_model.h5', history)"
      ]
    },
    {
      "cell_type": "code",
      "execution_count": 12,
      "metadata": {
        "colab": {
          "base_uri": "https://localhost:8080/",
          "height": 573
        },
        "id": "k4rtVoiXUx7U",
        "outputId": "70161b4b-c9d3-4a98-b9b7-023b2d8c14bf"
      },
      "outputs": [
        {
          "data": {
            "image/png": "[encoded data removed]",
            "text/plain": [
              "<Figure size 432x288 with 1 Axes>"
            ]
          },
          "metadata": {
            "needs_background": "light"
          },
          "output_type": "display_data"
        },
        {
          "data": {
            "image/png": "[encoded data removed]",
            "text/plain": [
              "<Figure size 432x288 with 1 Axes>"
            ]
          },
          "metadata": {
            "needs_background": "light"
          },
          "output_type": "display_data"
        }
      ],
      "source": [
        "import matplotlib.pyplot as plt\n",
        "def plot_learningCurve(history, epoch):\n",
        "  # Plot training & validation accuracy values\n",
        "  epoch_range = range(1, epoch+1)\n",
        "  plt.plot(epoch_range, history.history['accuracy'])\n",
        "  plt.title('Model accuracy')\n",
        "  plt.ylabel('Accuracy')\n",
        "  plt.xlabel('Epoch')\n",
        "  plt.show()\n",
        "\n",
        "  # Plot training & validation loss values\n",
        "  plt.plot(epoch_range, history.history['loss'])\n",
        "  plt.title('Model loss')\n",
        "  plt.ylabel('Loss')\n",
        "  plt.xlabel('Epoch')\n",
        "  plt.show()\n",
        "plot_learningCurve(history, 200)"
      ]
    },
    {
      "cell_type": "code",
      "execution_count": 13,
      "metadata": {
        "id": "XnMofQ-3UyI9"
      },
      "outputs": [],
      "source": [
        "model = load_model('chatbot_model.h5')"
      ]
    },
    {
      "cell_type": "code",
      "execution_count": 14,
      "metadata": {
        "id": "ryy8vhz3Uyap"
      },
      "outputs": [],
      "source": [
        "intents = json.loads(open('intents.json', encoding='utf-8').read())\n",
        "words = pickle.load(open('words.pkl','rb'))\n",
        "classes = pickle.load(open('classes.pkl','rb'))"
      ]
    },
    {
      "cell_type": "code",
      "execution_count": 15,
      "metadata": {
        "id": "Yu22jTAOUzPe"
      },
      "outputs": [],
      "source": [
        "def clean_up_sentence(sentence):\n",
        "    sentence_words = nltk.word_tokenize(sentence)\n",
        "    sentence_words = [lemmatizer.lemmatize(word.lower()) for word in sentence_words]\n",
        "    return sentence_words"
      ]
    },
    {
      "cell_type": "code",
      "execution_count": 16,
      "metadata": {
        "id": "6fl6y_jjUzbs"
      },
      "outputs": [],
      "source": [
        "# return bag of words array: 0 or 1 for each word in the bag that exists in the sentence\n",
        "def bow(sentence, words, show_details=True):\n",
        "    # tokenize the pattern\n",
        "    sentence_words = clean_up_sentence(sentence)\n",
        "    # bag of words - matrix of N words, vocabulary matrix\n",
        "    bag = [0]*len(words)\n",
        "    for s in sentence_words:\n",
        "        for i,w in enumerate(words):\n",
        "            if w == s:\n",
        "                # assign 1 if current word is in the vocabulary position\n",
        "                bag[i] = 1\n",
        "                if show_details:\n",
        "                    print (\"found in bag: %s\" % w)\n",
        "    return(np.array(bag))"
      ]
    },
    {
      "cell_type": "code",
      "execution_count": 17,
      "metadata": {
        "id": "EOy7mJCVU0Do"
      },
      "outputs": [],
      "source": [
        "def predict_class(sentence, model):\n",
        "    # filter out predictions below a threshold\n",
        "    p = bow(sentence, words, show_details=False)\n",
        "    res = model.predict(np.array([p]))[0]\n",
        "    ERROR_THRESHOLD = 0.25\n",
        "    results = [[i,r] for i,r in enumerate(res) if r>ERROR_THRESHOLD]\n",
        "    # sort by strength of probability\n",
        "    results.sort(key=lambda x: x[1], reverse=True)\n",
        "    return_list = []\n",
        "    for r in results:\n",
        "        return_list.append({\"intent\": classes[r[0]], \"probability\": str(r[1])})\n",
        "    return return_list"
      ]
    },
    {
      "cell_type": "code",
      "execution_count": 18,
      "metadata": {
        "id": "2ydwo_ZkVeN5"
      },
      "outputs": [],
      "source": [
        "def getResponse(ints, intents_json):\n",
        "    tag = ints[0]['intent']\n",
        "    list_of_intents = intents_json['intents']\n",
        "    for i in list_of_intents:\n",
        "        if(i['tag']== tag):\n",
        "            result = random.choice(i['responses'])\n",
        "            break\n",
        "        else:\n",
        "            result = \"You must ask the right questions\"\n",
        "    return result"
      ]
    },
    {
      "cell_type": "code",
      "execution_count": 19,
      "metadata": {
        "id": "8IUtKPSRVeYI"
      },
      "outputs": [],
      "source": [
        "def chatbot_response(msg):\n",
        "    ints = predict_class(msg, model)\n",
        "    res = getResponse(ints, intents)\n",
        "    return res"
      ]
    },
    {
      "cell_type": "code",
      "execution_count": 20,
      "metadata": {
        "colab": {
          "base_uri": "https://localhost:8080/",
          "height": 35
        },
        "id": "eHDsE8oSXLXz",
        "outputId": "0fc2614c-b923-43f2-b0c3-3b13a583ae34"
      },
      "outputs": [
        {
          "data": {
            "text/plain": [
              "'Playstation is better for exclusive games'"
            ]
          },
          "execution_count": 20,
          "metadata": {},
          "output_type": "execute_result"
        }
      ],
      "source": [
        "chatbot_response('What is best for gaming')"
      ]
    },
    {
      "cell_type": "code",
      "execution_count": null,
      "metadata": {
        "id": "SxmSczPxXrbX"
      },
      "outputs": [],
      "source": []
    }
  ],
  "metadata": {
    "colab": {
      "collapsed_sections": [],
      "name": "Chatbot.ipynb",
      "provenance": []
    },
    "kernelspec": {
      "display_name": "Python 3",
      "name": "python3"
    },
    "language_info": {
      "codemirror_mode": {
        "name": "ipython",
        "version": 3
      },
      "file_extension": ".py",
      "mimetype": "text/x-python",
      "name": "python",
      "nbconvert_exporter": "python",
      "pygments_lexer": "ipython3",
      "version": "3.7.11"
    }
  },
  "nbformat": 4,
  "nbformat_minor": 0
}
